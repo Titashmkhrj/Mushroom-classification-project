{
  "nbformat": 4,
  "nbformat_minor": 0,
  "metadata": {
    "colab": {
      "name": "Mushroom_HPO_MS_Testing.ipynb",
      "provenance": [],
      "collapsed_sections": [],
      "mount_file_id": "1GqS9NLidzhYdX6jVhCBRO1lyez-cbTNa",
      "authorship_tag": "ABX9TyPDX/kj4l3xHbD9ix4jH808",
      "include_colab_link": true
    },
    "kernelspec": {
      "name": "python3",
      "display_name": "Python 3"
    }
  },
  "cells": [
    {
      "cell_type": "markdown",
      "metadata": {
        "id": "view-in-github",
        "colab_type": "text"
      },
      "source": [
        "<a href=\"https://colab.research.google.com/github/Titashmkhrj/Mushroom-classification-project/blob/master/Mushroom_HPO_MS_Testing.ipynb\" target=\"_parent\"><img src=\"https://colab.research.google.com/assets/colab-badge.svg\" alt=\"Open In Colab\"/></a>"
      ]
    },
    {
      "cell_type": "markdown",
      "metadata": {
        "id": "EOuux_xk1tig",
        "colab_type": "text"
      },
      "source": [
        "# Importing libraries."
      ]
    },
    {
      "cell_type": "code",
      "metadata": {
        "id": "_5bZFdP-wj2f",
        "colab_type": "code",
        "colab": {
          "base_uri": "https://localhost:8080/",
          "height": 34
        },
        "outputId": "6c087131-9f23-4909-a593-7f57d1621288"
      },
      "source": [
        "# import warnings filter\n",
        "from warnings import simplefilter\n",
        "# ignore all future warnings\n",
        "simplefilter(action='ignore', category=FutureWarning)\n",
        "#---------------------------------------------------------------------------------------------------------------------------------------\n",
        "\n",
        "# importing the required libraries\n",
        "import numpy as np\n",
        "import pandas as pd\n",
        "import joblib\n",
        "\n",
        "import imblearn \n",
        "from imblearn.over_sampling import SMOTE\n",
        "from imblearn.pipeline import Pipeline\n",
        "\n",
        "from sklearn.linear_model import (LogisticRegression, PassiveAggressiveClassifier, RidgeClassifier)\n",
        "from sklearn.neighbors import KNeighborsClassifier\n",
        "from sklearn.svm import SVC\n",
        "from sklearn.tree import DecisionTreeClassifier\n",
        "from sklearn.ensemble import RandomForestClassifier\n",
        "\n",
        "from sklearn.preprocessing import StandardScaler\n",
        "from sklearn.model_selection import (RandomizedSearchCV, train_test_split, cross_val_score)\n",
        "\n",
        "from sklearn.metrics import accuracy_score\n",
        "\n",
        "print(\"Finished importing the libraries.\")"
      ],
      "execution_count": 1,
      "outputs": [
        {
          "output_type": "stream",
          "text": [
            "Finished importing the libraries.\n"
          ],
          "name": "stdout"
        }
      ]
    },
    {
      "cell_type": "markdown",
      "metadata": {
        "id": "0d9n0Z1M2E66",
        "colab_type": "text"
      },
      "source": [
        "# Models objects and their parameter grid."
      ]
    },
    {
      "cell_type": "code",
      "metadata": {
        "id": "lc3NwALDczVi",
        "colab_type": "code",
        "colab": {}
      },
      "source": [
        "# models as per the sequence in the parameter grid \n",
        "model_objects = [LogisticRegression(),\n",
        "                 LogisticRegression(),\n",
        "\t\t\t\t\t\t\t\t LogisticRegression(),\n",
        "\t\t\t\t\t\t\t\t PassiveAggressiveClassifier(),\n",
        "\t\t\t\t\t\t\t\t RidgeClassifier(),\n",
        "\t\t\t\t\t\t\t\t KNeighborsClassifier(),\n",
        "\t\t\t\t\t\t\t\t SVC(),\n",
        "\t\t\t\t\t\t\t\t DecisionTreeClassifier(),\n",
        "\t\t\t\t\t\t\t\t RandomForestClassifier()]\n",
        "\n",
        "\n",
        "\n",
        "# hyper-parameter dictionary for the tunningof the models\n",
        "parameter_grid = {'LR_l1' : {'model__penalty' : ['l1'],\n",
        "                              'model__C' : [0.001, 0.01, 0.1, 1, 10, 100],\n",
        "                              'model__random_state' : [42],\n",
        "                              'model__solver' : ['liblinear', 'saga'],\n",
        "                              'model__max_iter' : [100000]\n",
        "                          },\n",
        "\t\t\t\t\n",
        "                  'LR_l2' : {'model__penalty' : ['l2'],\n",
        "                              'model__C' : [0.001, 0.01, 0.1, 1, 10, 100],\n",
        "                              'model__random_state' : [42],\n",
        "                              'model__solver' : ['newton-cg', 'lbfgs', 'sag', 'saga'],\n",
        "                              'model__max_iter' : [100000]\n",
        "                          },\n",
        "\n",
        "                  'LR_ElNet' : {'model__penalty' : ['elasticnet'],\n",
        "                                'model__l1_ratio' : [0.3, 0.5, 0.7],\n",
        "                                'model__C' : [0.001, 0.01, 0.1, 1, 10, 100],\n",
        "                                'model__random_state' : [42],\n",
        "                                'model__solver' : ['saga'],\n",
        "                                'model__max_iter' : [100000]\n",
        "                              },\n",
        "\n",
        "                  'Pass_Agg_clif' : {'model__C' : [0.001, 0.01, 0.1, 1, 10, 100],\n",
        "                                    #   'model__fit_intercept' : ['True', 'False'],\n",
        "                                      'model__random_state' : [42],\n",
        "                                      'model__loss' : ['hinge', 'squared_hinge'],\n",
        "                                      'model__class_weight' : ['balanced', None]\n",
        "                                  },\n",
        "                  \n",
        "                  'Ridge_clif' : {'model__alpha' : [500.0, 50.0, 5.0, 0.5, 0.05, 0.005],\n",
        "                                  'model__fit_intercept' : ['True', 'False'],\n",
        "                                  'model__normalize' : ['True', 'False'],\n",
        "                                  'model__class_weight' : ['balanced', None],\n",
        "                                  'model__solver' : ['svd', 'cholesky', 'lsqr', 'sparse_cg']\n",
        "                              },\n",
        "                  \n",
        "                  'KN_classif' : {'model__n_neighbors' : [1,3,5,7,9],\n",
        "                                  'model__p' : [1,2,5]                     \n",
        "                              },\n",
        "                  \n",
        "                  'SVC' : {'model__C' : [0.001, 0.01, 0.1, 1, 10, 100, 1000],\n",
        "                           'model__gamma' : ['scale', 'auto'],                     \n",
        "                      },\n",
        "                  \n",
        "                  'DT_clif' : {'model__criterion': ['gini','entropy'],\n",
        "                                'model__max_features': ['sqrt','log2',None],\n",
        "                                'model__min_samples_leaf': [1,2,5,10],\n",
        "                                'model__min_samples_split' : [2,5,10,15,100],\n",
        "                                'model__max_depth': [5,8,15,25,30,None]\n",
        "                          },\n",
        "                  \n",
        "                  'RF_clif' : {'model__n_estimators' : [120,300,500,800,1200],\n",
        "                               'model__max_features': ['sqrt','log2',None],\n",
        "                                'model__min_samples_leaf': [1,2,5,10],\n",
        "                                'model__min_samples_split' : [2,5,10,15,100],\n",
        "                                'model__max_depth': [5,8,15,25,30,None]                      \n",
        "                          }\n",
        "              }"
      ],
      "execution_count": 2,
      "outputs": []
    },
    {
      "cell_type": "markdown",
      "metadata": {
        "id": "16aouJHM2zOR",
        "colab_type": "text"
      },
      "source": [
        " # Loading the data."
      ]
    },
    {
      "cell_type": "code",
      "metadata": {
        "id": "GP7oMbnCxaHp",
        "colab_type": "code",
        "colab": {
          "base_uri": "https://localhost:8080/",
          "height": 34
        },
        "outputId": "7c23c443-a4a4-49b8-f4df-2153f9271875"
      },
      "source": [
        "# reading the feature and target spaces for our project\n",
        "x_data = pd.read_csv('/content/drive/My Drive/data_for_HPO&MS/Mushroom_classif/feature_space.csv')\n",
        "y_data = pd.read_csv('/content/drive/My Drive/data_for_HPO&MS/Mushroom_classif/target_space.csv')\n",
        "# dropping an unnecessary column from our feature and target space\n",
        "x_data.drop('Unnamed: 0', axis=1, inplace=True)\n",
        "y_data.drop('Unnamed: 0', axis=1, inplace=True)\n",
        "print(\"Finished loading the data.\")"
      ],
      "execution_count": 3,
      "outputs": [
        {
          "output_type": "stream",
          "text": [
            "Finished loading the data.\n"
          ],
          "name": "stdout"
        }
      ]
    },
    {
      "cell_type": "markdown",
      "metadata": {
        "id": "9vWhQSIExii9",
        "colab_type": "text"
      },
      "source": [
        "# Splitting the data for the purpose of hyper-parameter optimisation and model selection."
      ]
    },
    {
      "cell_type": "code",
      "metadata": {
        "id": "1ewZf15Hz1iR",
        "colab_type": "code",
        "colab": {
          "base_uri": "https://localhost:8080/",
          "height": 34
        },
        "outputId": "8de8225c-91dc-45eb-dff4-3552d7299172"
      },
      "source": [
        "# splitting our dataset into train, validation and test sets\n",
        "x_train, x_test, y_train, y_test = train_test_split(x_data, y_data, test_size = 0.3, random_state = 42)\n",
        "x_optimization, x_validation, y_optimization, y_validation = train_test_split(x_train, y_train, test_size = 0.3, random_state = 42)\n",
        "\n",
        "print(\"Finished splitting the data.\")"
      ],
      "execution_count": 4,
      "outputs": [
        {
          "output_type": "stream",
          "text": [
            "Finished splitting the data.\n"
          ],
          "name": "stdout"
        }
      ]
    },
    {
      "cell_type": "markdown",
      "metadata": {
        "id": "sea9nOWIz5f3",
        "colab_type": "text"
      },
      "source": [
        "# Hyper-parameter optimisation."
      ]
    },
    {
      "cell_type": "code",
      "metadata": {
        "id": "5ykKLF40Mzqt",
        "colab_type": "code",
        "colab": {
          "base_uri": "https://localhost:8080/",
          "height": 1000
        },
        "outputId": "357e677f-9648-4b9b-a5d8-c3111548422e"
      },
      "source": [
        "# initiating an empty list for storing the optimized models\n",
        "hyper_parameter_optimized_models = []\n",
        "\n",
        "# maing the objects for our resampling and scalling the data.\n",
        "over_sampler = SMOTE(random_state=42)\n",
        "scaler = StandardScaler()\n",
        "\n",
        "# initiating the random search\n",
        "for grid, model in zip(parameter_grid.values(), model_objects) :\n",
        "  # the only change that i have done is remove the comma \",\" from the end of the very next line i.e classif_model = ......\n",
        "  classif_model = Pipeline([('resampler', over_sampler), ('scaler', scaler), ('model', model)])\n",
        "  # the nex thing tht we can do is remove the over_sampler an scaler objects and define them in te pipeline itself\n",
        "  optimizer = RandomizedSearchCV(estimator = classif_model,\n",
        "\t\t\t\t\t\t\t\tparam_distributions = grid,\n",
        "\t\t\t\t\t\t\t\trandom_state = 42,\n",
        "\t\t\t\t\t\t\t\tcv = 3,\n",
        "\t\t\t\t\t\t\t\terror_score = -1,\n",
        "\t\t\t\t\t\t\t\tverbose = 10,\n",
        "\t\t\t\t\t\t\t\t)\n",
        "  optimizer.fit(x_optimization, y_optimization.values.ravel())\n",
        "\t# appending the best estimator to a list\n",
        "  hyper_parameter_optimized_models.append(optimizer.best_estimator_)\n",
        "\n",
        "print('Hyper parameter tunning is finished.')"
      ],
      "execution_count": 5,
      "outputs": [
        {
          "output_type": "stream",
          "text": [
            "Fitting 3 folds for each of 10 candidates, totalling 30 fits\n",
            "[CV] model__solver=liblinear, model__random_state=42, model__penalty=l1, model__max_iter=100000, model__C=100 \n"
          ],
          "name": "stdout"
        },
        {
          "output_type": "stream",
          "text": [
            "[Parallel(n_jobs=1)]: Using backend SequentialBackend with 1 concurrent workers.\n"
          ],
          "name": "stderr"
        },
        {
          "output_type": "stream",
          "text": [
            "[CV]  model__solver=liblinear, model__random_state=42, model__penalty=l1, model__max_iter=100000, model__C=100, score=1.000, total=   0.2s\n",
            "[CV] model__solver=liblinear, model__random_state=42, model__penalty=l1, model__max_iter=100000, model__C=100 \n"
          ],
          "name": "stdout"
        },
        {
          "output_type": "stream",
          "text": [
            "[Parallel(n_jobs=1)]: Done   1 out of   1 | elapsed:    0.2s remaining:    0.0s\n"
          ],
          "name": "stderr"
        },
        {
          "output_type": "stream",
          "text": [
            "[CV]  model__solver=liblinear, model__random_state=42, model__penalty=l1, model__max_iter=100000, model__C=100, score=1.000, total=   0.2s\n",
            "[CV] model__solver=liblinear, model__random_state=42, model__penalty=l1, model__max_iter=100000, model__C=100 \n"
          ],
          "name": "stdout"
        },
        {
          "output_type": "stream",
          "text": [
            "[Parallel(n_jobs=1)]: Done   2 out of   2 | elapsed:    0.5s remaining:    0.0s\n"
          ],
          "name": "stderr"
        },
        {
          "output_type": "stream",
          "text": [
            "[CV]  model__solver=liblinear, model__random_state=42, model__penalty=l1, model__max_iter=100000, model__C=100, score=1.000, total=   0.2s\n",
            "[CV] model__solver=saga, model__random_state=42, model__penalty=l1, model__max_iter=100000, model__C=10 \n"
          ],
          "name": "stdout"
        },
        {
          "output_type": "stream",
          "text": [
            "[Parallel(n_jobs=1)]: Done   3 out of   3 | elapsed:    0.7s remaining:    0.0s\n"
          ],
          "name": "stderr"
        },
        {
          "output_type": "stream",
          "text": [
            "[CV]  model__solver=saga, model__random_state=42, model__penalty=l1, model__max_iter=100000, model__C=10, score=1.000, total=   6.7s\n",
            "[CV] model__solver=saga, model__random_state=42, model__penalty=l1, model__max_iter=100000, model__C=10 \n"
          ],
          "name": "stdout"
        },
        {
          "output_type": "stream",
          "text": [
            "[Parallel(n_jobs=1)]: Done   4 out of   4 | elapsed:    7.5s remaining:    0.0s\n"
          ],
          "name": "stderr"
        },
        {
          "output_type": "stream",
          "text": [
            "[CV]  model__solver=saga, model__random_state=42, model__penalty=l1, model__max_iter=100000, model__C=10, score=0.999, total=   6.1s\n",
            "[CV] model__solver=saga, model__random_state=42, model__penalty=l1, model__max_iter=100000, model__C=10 \n"
          ],
          "name": "stdout"
        },
        {
          "output_type": "stream",
          "text": [
            "[Parallel(n_jobs=1)]: Done   5 out of   5 | elapsed:   13.6s remaining:    0.0s\n"
          ],
          "name": "stderr"
        },
        {
          "output_type": "stream",
          "text": [
            "[CV]  model__solver=saga, model__random_state=42, model__penalty=l1, model__max_iter=100000, model__C=10, score=1.000, total=   3.8s\n",
            "[CV] model__solver=liblinear, model__random_state=42, model__penalty=l1, model__max_iter=100000, model__C=0.001 \n",
            "[CV]  model__solver=liblinear, model__random_state=42, model__penalty=l1, model__max_iter=100000, model__C=0.001, score=0.891, total=   0.2s\n",
            "[CV] model__solver=liblinear, model__random_state=42, model__penalty=l1, model__max_iter=100000, model__C=0.001 \n"
          ],
          "name": "stdout"
        },
        {
          "output_type": "stream",
          "text": [
            "[Parallel(n_jobs=1)]: Done   6 out of   6 | elapsed:   17.4s remaining:    0.0s\n",
            "[Parallel(n_jobs=1)]: Done   7 out of   7 | elapsed:   17.6s remaining:    0.0s\n"
          ],
          "name": "stderr"
        },
        {
          "output_type": "stream",
          "text": [
            "[CV]  model__solver=liblinear, model__random_state=42, model__penalty=l1, model__max_iter=100000, model__C=0.001, score=0.899, total=   0.2s\n",
            "[CV] model__solver=liblinear, model__random_state=42, model__penalty=l1, model__max_iter=100000, model__C=0.001 \n",
            "[CV]  model__solver=liblinear, model__random_state=42, model__penalty=l1, model__max_iter=100000, model__C=0.001, score=0.893, total=   0.2s\n",
            "[CV] model__solver=liblinear, model__random_state=42, model__penalty=l1, model__max_iter=100000, model__C=10 \n"
          ],
          "name": "stdout"
        },
        {
          "output_type": "stream",
          "text": [
            "[Parallel(n_jobs=1)]: Done   8 out of   8 | elapsed:   17.8s remaining:    0.0s\n",
            "[Parallel(n_jobs=1)]: Done   9 out of   9 | elapsed:   18.0s remaining:    0.0s\n"
          ],
          "name": "stderr"
        },
        {
          "output_type": "stream",
          "text": [
            "[CV]  model__solver=liblinear, model__random_state=42, model__penalty=l1, model__max_iter=100000, model__C=10, score=1.000, total=   0.2s\n",
            "[CV] model__solver=liblinear, model__random_state=42, model__penalty=l1, model__max_iter=100000, model__C=10 \n",
            "[CV]  model__solver=liblinear, model__random_state=42, model__penalty=l1, model__max_iter=100000, model__C=10, score=1.000, total=   0.2s\n",
            "[CV] model__solver=liblinear, model__random_state=42, model__penalty=l1, model__max_iter=100000, model__C=10 \n",
            "[CV]  model__solver=liblinear, model__random_state=42, model__penalty=l1, model__max_iter=100000, model__C=10, score=1.000, total=   0.2s\n",
            "[CV] model__solver=saga, model__random_state=42, model__penalty=l1, model__max_iter=100000, model__C=0.1 \n",
            "[CV]  model__solver=saga, model__random_state=42, model__penalty=l1, model__max_iter=100000, model__C=0.1, score=0.986, total=   1.4s\n",
            "[CV] model__solver=saga, model__random_state=42, model__penalty=l1, model__max_iter=100000, model__C=0.1 \n",
            "[CV]  model__solver=saga, model__random_state=42, model__penalty=l1, model__max_iter=100000, model__C=0.1, score=0.991, total=   1.2s\n",
            "[CV] model__solver=saga, model__random_state=42, model__penalty=l1, model__max_iter=100000, model__C=0.1 \n",
            "[CV]  model__solver=saga, model__random_state=42, model__penalty=l1, model__max_iter=100000, model__C=0.1, score=0.984, total=   0.4s\n",
            "[CV] model__solver=liblinear, model__random_state=42, model__penalty=l1, model__max_iter=100000, model__C=0.01 \n",
            "[CV]  model__solver=liblinear, model__random_state=42, model__penalty=l1, model__max_iter=100000, model__C=0.01, score=0.969, total=   0.2s\n",
            "[CV] model__solver=liblinear, model__random_state=42, model__penalty=l1, model__max_iter=100000, model__C=0.01 \n",
            "[CV]  model__solver=liblinear, model__random_state=42, model__penalty=l1, model__max_iter=100000, model__C=0.01, score=0.979, total=   0.2s\n",
            "[CV] model__solver=liblinear, model__random_state=42, model__penalty=l1, model__max_iter=100000, model__C=0.01 \n",
            "[CV]  model__solver=liblinear, model__random_state=42, model__penalty=l1, model__max_iter=100000, model__C=0.01, score=0.962, total=   0.2s\n",
            "[CV] model__solver=saga, model__random_state=42, model__penalty=l1, model__max_iter=100000, model__C=0.001 \n",
            "[CV]  model__solver=saga, model__random_state=42, model__penalty=l1, model__max_iter=100000, model__C=0.001, score=0.891, total=   0.2s\n",
            "[CV] model__solver=saga, model__random_state=42, model__penalty=l1, model__max_iter=100000, model__C=0.001 \n",
            "[CV]  model__solver=saga, model__random_state=42, model__penalty=l1, model__max_iter=100000, model__C=0.001, score=0.899, total=   0.2s\n",
            "[CV] model__solver=saga, model__random_state=42, model__penalty=l1, model__max_iter=100000, model__C=0.001 \n",
            "[CV]  model__solver=saga, model__random_state=42, model__penalty=l1, model__max_iter=100000, model__C=0.001, score=0.893, total=   0.2s\n",
            "[CV] model__solver=saga, model__random_state=42, model__penalty=l1, model__max_iter=100000, model__C=100 \n",
            "[CV]  model__solver=saga, model__random_state=42, model__penalty=l1, model__max_iter=100000, model__C=100, score=1.000, total=   6.7s\n",
            "[CV] model__solver=saga, model__random_state=42, model__penalty=l1, model__max_iter=100000, model__C=100 \n",
            "[CV]  model__solver=saga, model__random_state=42, model__penalty=l1, model__max_iter=100000, model__C=100, score=0.999, total=   6.1s\n",
            "[CV] model__solver=saga, model__random_state=42, model__penalty=l1, model__max_iter=100000, model__C=100 \n",
            "[CV]  model__solver=saga, model__random_state=42, model__penalty=l1, model__max_iter=100000, model__C=100, score=1.000, total=   4.7s\n",
            "[CV] model__solver=liblinear, model__random_state=42, model__penalty=l1, model__max_iter=100000, model__C=0.1 \n",
            "[CV]  model__solver=liblinear, model__random_state=42, model__penalty=l1, model__max_iter=100000, model__C=0.1, score=0.988, total=   0.2s\n",
            "[CV] model__solver=liblinear, model__random_state=42, model__penalty=l1, model__max_iter=100000, model__C=0.1 \n",
            "[CV]  model__solver=liblinear, model__random_state=42, model__penalty=l1, model__max_iter=100000, model__C=0.1, score=0.991, total=   0.2s\n",
            "[CV] model__solver=liblinear, model__random_state=42, model__penalty=l1, model__max_iter=100000, model__C=0.1 \n",
            "[CV]  model__solver=liblinear, model__random_state=42, model__penalty=l1, model__max_iter=100000, model__C=0.1, score=0.984, total=   0.2s\n",
            "[CV] model__solver=saga, model__random_state=42, model__penalty=l1, model__max_iter=100000, model__C=1 \n",
            "[CV]  model__solver=saga, model__random_state=42, model__penalty=l1, model__max_iter=100000, model__C=1, score=0.998, total=   5.3s\n",
            "[CV] model__solver=saga, model__random_state=42, model__penalty=l1, model__max_iter=100000, model__C=1 \n",
            "[CV]  model__solver=saga, model__random_state=42, model__penalty=l1, model__max_iter=100000, model__C=1, score=0.998, total=   6.0s\n",
            "[CV] model__solver=saga, model__random_state=42, model__penalty=l1, model__max_iter=100000, model__C=1 \n",
            "[CV]  model__solver=saga, model__random_state=42, model__penalty=l1, model__max_iter=100000, model__C=1, score=0.998, total=   2.3s\n"
          ],
          "name": "stdout"
        },
        {
          "output_type": "stream",
          "text": [
            "[Parallel(n_jobs=1)]: Done  30 out of  30 | elapsed:   54.7s finished\n"
          ],
          "name": "stderr"
        },
        {
          "output_type": "stream",
          "text": [
            "Fitting 3 folds for each of 10 candidates, totalling 30 fits\n",
            "[CV] model__solver=newton-cg, model__random_state=42, model__penalty=l2, model__max_iter=100000, model__C=0.1 \n",
            "[CV]  model__solver=newton-cg, model__random_state=42, model__penalty=l2, model__max_iter=100000, model__C=0.1, score=0.994, total=   0.2s\n",
            "[CV] model__solver=newton-cg, model__random_state=42, model__penalty=l2, model__max_iter=100000, model__C=0.1 \n"
          ],
          "name": "stdout"
        },
        {
          "output_type": "stream",
          "text": [
            "[Parallel(n_jobs=1)]: Using backend SequentialBackend with 1 concurrent workers.\n",
            "[Parallel(n_jobs=1)]: Done   1 out of   1 | elapsed:    0.2s remaining:    0.0s\n"
          ],
          "name": "stderr"
        },
        {
          "output_type": "stream",
          "text": [
            "[CV]  model__solver=newton-cg, model__random_state=42, model__penalty=l2, model__max_iter=100000, model__C=0.1, score=0.994, total=   0.2s\n",
            "[CV] model__solver=newton-cg, model__random_state=42, model__penalty=l2, model__max_iter=100000, model__C=0.1 \n"
          ],
          "name": "stdout"
        },
        {
          "output_type": "stream",
          "text": [
            "[Parallel(n_jobs=1)]: Done   2 out of   2 | elapsed:    0.4s remaining:    0.0s\n"
          ],
          "name": "stderr"
        },
        {
          "output_type": "stream",
          "text": [
            "[CV]  model__solver=newton-cg, model__random_state=42, model__penalty=l2, model__max_iter=100000, model__C=0.1, score=0.989, total=   0.2s\n",
            "[CV] model__solver=newton-cg, model__random_state=42, model__penalty=l2, model__max_iter=100000, model__C=10 \n"
          ],
          "name": "stdout"
        },
        {
          "output_type": "stream",
          "text": [
            "[Parallel(n_jobs=1)]: Done   3 out of   3 | elapsed:    0.7s remaining:    0.0s\n"
          ],
          "name": "stderr"
        },
        {
          "output_type": "stream",
          "text": [
            "[CV]  model__solver=newton-cg, model__random_state=42, model__penalty=l2, model__max_iter=100000, model__C=10, score=1.000, total=   0.3s\n",
            "[CV] model__solver=newton-cg, model__random_state=42, model__penalty=l2, model__max_iter=100000, model__C=10 \n"
          ],
          "name": "stdout"
        },
        {
          "output_type": "stream",
          "text": [
            "[Parallel(n_jobs=1)]: Done   4 out of   4 | elapsed:    1.0s remaining:    0.0s\n"
          ],
          "name": "stderr"
        },
        {
          "output_type": "stream",
          "text": [
            "[CV]  model__solver=newton-cg, model__random_state=42, model__penalty=l2, model__max_iter=100000, model__C=10, score=0.999, total=   0.3s\n",
            "[CV] model__solver=newton-cg, model__random_state=42, model__penalty=l2, model__max_iter=100000, model__C=10 \n"
          ],
          "name": "stdout"
        },
        {
          "output_type": "stream",
          "text": [
            "[Parallel(n_jobs=1)]: Done   5 out of   5 | elapsed:    1.2s remaining:    0.0s\n"
          ],
          "name": "stderr"
        },
        {
          "output_type": "stream",
          "text": [
            "[CV]  model__solver=newton-cg, model__random_state=42, model__penalty=l2, model__max_iter=100000, model__C=10, score=0.999, total=   0.3s\n",
            "[CV] model__solver=newton-cg, model__random_state=42, model__penalty=l2, model__max_iter=100000, model__C=0.001 \n"
          ],
          "name": "stdout"
        },
        {
          "output_type": "stream",
          "text": [
            "[Parallel(n_jobs=1)]: Done   6 out of   6 | elapsed:    1.5s remaining:    0.0s\n"
          ],
          "name": "stderr"
        },
        {
          "output_type": "stream",
          "text": [
            "[CV]  model__solver=newton-cg, model__random_state=42, model__penalty=l2, model__max_iter=100000, model__C=0.001, score=0.928, total=   0.2s\n",
            "[CV] model__solver=newton-cg, model__random_state=42, model__penalty=l2, model__max_iter=100000, model__C=0.001 \n"
          ],
          "name": "stdout"
        },
        {
          "output_type": "stream",
          "text": [
            "[Parallel(n_jobs=1)]: Done   7 out of   7 | elapsed:    1.7s remaining:    0.0s\n"
          ],
          "name": "stderr"
        },
        {
          "output_type": "stream",
          "text": [
            "[CV]  model__solver=newton-cg, model__random_state=42, model__penalty=l2, model__max_iter=100000, model__C=0.001, score=0.956, total=   0.2s\n",
            "[CV] model__solver=newton-cg, model__random_state=42, model__penalty=l2, model__max_iter=100000, model__C=0.001 \n"
          ],
          "name": "stdout"
        },
        {
          "output_type": "stream",
          "text": [
            "[Parallel(n_jobs=1)]: Done   8 out of   8 | elapsed:    2.0s remaining:    0.0s\n"
          ],
          "name": "stderr"
        },
        {
          "output_type": "stream",
          "text": [
            "[CV]  model__solver=newton-cg, model__random_state=42, model__penalty=l2, model__max_iter=100000, model__C=0.001, score=0.946, total=   0.2s\n",
            "[CV] model__solver=sag, model__random_state=42, model__penalty=l2, model__max_iter=100000, model__C=10 \n"
          ],
          "name": "stdout"
        },
        {
          "output_type": "stream",
          "text": [
            "[Parallel(n_jobs=1)]: Done   9 out of   9 | elapsed:    2.2s remaining:    0.0s\n"
          ],
          "name": "stderr"
        },
        {
          "output_type": "stream",
          "text": [
            "[CV]  model__solver=sag, model__random_state=42, model__penalty=l2, model__max_iter=100000, model__C=10, score=1.000, total=   2.8s\n",
            "[CV] model__solver=sag, model__random_state=42, model__penalty=l2, model__max_iter=100000, model__C=10 \n",
            "[CV]  model__solver=sag, model__random_state=42, model__penalty=l2, model__max_iter=100000, model__C=10, score=0.999, total=   2.6s\n",
            "[CV] model__solver=sag, model__random_state=42, model__penalty=l2, model__max_iter=100000, model__C=10 \n",
            "[CV]  model__solver=sag, model__random_state=42, model__penalty=l2, model__max_iter=100000, model__C=10, score=0.999, total=   0.9s\n",
            "[CV] model__solver=saga, model__random_state=42, model__penalty=l2, model__max_iter=100000, model__C=0.1 \n",
            "[CV]  model__solver=saga, model__random_state=42, model__penalty=l2, model__max_iter=100000, model__C=0.1, score=0.994, total=   0.7s\n",
            "[CV] model__solver=saga, model__random_state=42, model__penalty=l2, model__max_iter=100000, model__C=0.1 \n",
            "[CV]  model__solver=saga, model__random_state=42, model__penalty=l2, model__max_iter=100000, model__C=0.1, score=0.994, total=   0.7s\n",
            "[CV] model__solver=saga, model__random_state=42, model__penalty=l2, model__max_iter=100000, model__C=0.1 \n",
            "[CV]  model__solver=saga, model__random_state=42, model__penalty=l2, model__max_iter=100000, model__C=0.1, score=0.989, total=   0.3s\n",
            "[CV] model__solver=lbfgs, model__random_state=42, model__penalty=l2, model__max_iter=100000, model__C=0.1 \n",
            "[CV]  model__solver=lbfgs, model__random_state=42, model__penalty=l2, model__max_iter=100000, model__C=0.1, score=0.994, total=   0.2s\n",
            "[CV] model__solver=lbfgs, model__random_state=42, model__penalty=l2, model__max_iter=100000, model__C=0.1 \n",
            "[CV]  model__solver=lbfgs, model__random_state=42, model__penalty=l2, model__max_iter=100000, model__C=0.1, score=0.994, total=   0.2s\n",
            "[CV] model__solver=lbfgs, model__random_state=42, model__penalty=l2, model__max_iter=100000, model__C=0.1 \n",
            "[CV]  model__solver=lbfgs, model__random_state=42, model__penalty=l2, model__max_iter=100000, model__C=0.1, score=0.989, total=   0.2s\n",
            "[CV] model__solver=lbfgs, model__random_state=42, model__penalty=l2, model__max_iter=100000, model__C=1 \n",
            "[CV]  model__solver=lbfgs, model__random_state=42, model__penalty=l2, model__max_iter=100000, model__C=1, score=0.998, total=   0.2s\n",
            "[CV] model__solver=lbfgs, model__random_state=42, model__penalty=l2, model__max_iter=100000, model__C=1 \n",
            "[CV]  model__solver=lbfgs, model__random_state=42, model__penalty=l2, model__max_iter=100000, model__C=1, score=0.998, total=   0.3s\n",
            "[CV] model__solver=lbfgs, model__random_state=42, model__penalty=l2, model__max_iter=100000, model__C=1 \n",
            "[CV]  model__solver=lbfgs, model__random_state=42, model__penalty=l2, model__max_iter=100000, model__C=1, score=0.996, total=   0.3s\n",
            "[CV] model__solver=lbfgs, model__random_state=42, model__penalty=l2, model__max_iter=100000, model__C=0.001 \n",
            "[CV]  model__solver=lbfgs, model__random_state=42, model__penalty=l2, model__max_iter=100000, model__C=0.001, score=0.928, total=   0.2s\n",
            "[CV] model__solver=lbfgs, model__random_state=42, model__penalty=l2, model__max_iter=100000, model__C=0.001 \n",
            "[CV]  model__solver=lbfgs, model__random_state=42, model__penalty=l2, model__max_iter=100000, model__C=0.001, score=0.956, total=   0.2s\n",
            "[CV] model__solver=lbfgs, model__random_state=42, model__penalty=l2, model__max_iter=100000, model__C=0.001 \n",
            "[CV]  model__solver=lbfgs, model__random_state=42, model__penalty=l2, model__max_iter=100000, model__C=0.001, score=0.946, total=   0.2s\n",
            "[CV] model__solver=lbfgs, model__random_state=42, model__penalty=l2, model__max_iter=100000, model__C=100 \n",
            "[CV]  model__solver=lbfgs, model__random_state=42, model__penalty=l2, model__max_iter=100000, model__C=100, score=1.000, total=   0.3s\n",
            "[CV] model__solver=lbfgs, model__random_state=42, model__penalty=l2, model__max_iter=100000, model__C=100 \n",
            "[CV]  model__solver=lbfgs, model__random_state=42, model__penalty=l2, model__max_iter=100000, model__C=100, score=1.000, total=   0.3s\n",
            "[CV] model__solver=lbfgs, model__random_state=42, model__penalty=l2, model__max_iter=100000, model__C=100 \n",
            "[CV]  model__solver=lbfgs, model__random_state=42, model__penalty=l2, model__max_iter=100000, model__C=100, score=1.000, total=   0.3s\n",
            "[CV] model__solver=lbfgs, model__random_state=42, model__penalty=l2, model__max_iter=100000, model__C=0.01 \n",
            "[CV]  model__solver=lbfgs, model__random_state=42, model__penalty=l2, model__max_iter=100000, model__C=0.01, score=0.977, total=   0.2s\n",
            "[CV] model__solver=lbfgs, model__random_state=42, model__penalty=l2, model__max_iter=100000, model__C=0.01 \n",
            "[CV]  model__solver=lbfgs, model__random_state=42, model__penalty=l2, model__max_iter=100000, model__C=0.01, score=0.987, total=   0.2s\n",
            "[CV] model__solver=lbfgs, model__random_state=42, model__penalty=l2, model__max_iter=100000, model__C=0.01 \n",
            "[CV]  model__solver=lbfgs, model__random_state=42, model__penalty=l2, model__max_iter=100000, model__C=0.01, score=0.970, total=   0.2s\n"
          ],
          "name": "stdout"
        },
        {
          "output_type": "stream",
          "text": [
            "[Parallel(n_jobs=1)]: Done  30 out of  30 | elapsed:   13.9s finished\n"
          ],
          "name": "stderr"
        },
        {
          "output_type": "stream",
          "text": [
            "Fitting 3 folds for each of 10 candidates, totalling 30 fits\n",
            "[CV] model__solver=saga, model__random_state=42, model__penalty=elasticnet, model__max_iter=100000, model__l1_ratio=0.3, model__C=0.001 \n"
          ],
          "name": "stdout"
        },
        {
          "output_type": "stream",
          "text": [
            "[Parallel(n_jobs=1)]: Using backend SequentialBackend with 1 concurrent workers.\n"
          ],
          "name": "stderr"
        },
        {
          "output_type": "stream",
          "text": [
            "[CV]  model__solver=saga, model__random_state=42, model__penalty=elasticnet, model__max_iter=100000, model__l1_ratio=0.3, model__C=0.001, score=0.962, total=   0.2s\n",
            "[CV] model__solver=saga, model__random_state=42, model__penalty=elasticnet, model__max_iter=100000, model__l1_ratio=0.3, model__C=0.001 \n"
          ],
          "name": "stdout"
        },
        {
          "output_type": "stream",
          "text": [
            "[Parallel(n_jobs=1)]: Done   1 out of   1 | elapsed:    0.2s remaining:    0.0s\n"
          ],
          "name": "stderr"
        },
        {
          "output_type": "stream",
          "text": [
            "[CV]  model__solver=saga, model__random_state=42, model__penalty=elasticnet, model__max_iter=100000, model__l1_ratio=0.3, model__C=0.001, score=0.975, total=   0.2s\n",
            "[CV] model__solver=saga, model__random_state=42, model__penalty=elasticnet, model__max_iter=100000, model__l1_ratio=0.3, model__C=0.001 \n"
          ],
          "name": "stdout"
        },
        {
          "output_type": "stream",
          "text": [
            "[Parallel(n_jobs=1)]: Done   2 out of   2 | elapsed:    0.5s remaining:    0.0s\n"
          ],
          "name": "stderr"
        },
        {
          "output_type": "stream",
          "text": [
            "[CV]  model__solver=saga, model__random_state=42, model__penalty=elasticnet, model__max_iter=100000, model__l1_ratio=0.3, model__C=0.001, score=0.971, total=   0.2s\n",
            "[CV] model__solver=saga, model__random_state=42, model__penalty=elasticnet, model__max_iter=100000, model__l1_ratio=0.5, model__C=0.001 \n"
          ],
          "name": "stdout"
        },
        {
          "output_type": "stream",
          "text": [
            "[Parallel(n_jobs=1)]: Done   3 out of   3 | elapsed:    0.7s remaining:    0.0s\n"
          ],
          "name": "stderr"
        },
        {
          "output_type": "stream",
          "text": [
            "[CV]  model__solver=saga, model__random_state=42, model__penalty=elasticnet, model__max_iter=100000, model__l1_ratio=0.5, model__C=0.001, score=0.891, total=   0.2s\n",
            "[CV] model__solver=saga, model__random_state=42, model__penalty=elasticnet, model__max_iter=100000, model__l1_ratio=0.5, model__C=0.001 \n"
          ],
          "name": "stdout"
        },
        {
          "output_type": "stream",
          "text": [
            "[Parallel(n_jobs=1)]: Done   4 out of   4 | elapsed:    0.9s remaining:    0.0s\n"
          ],
          "name": "stderr"
        },
        {
          "output_type": "stream",
          "text": [
            "[CV]  model__solver=saga, model__random_state=42, model__penalty=elasticnet, model__max_iter=100000, model__l1_ratio=0.5, model__C=0.001, score=0.899, total=   0.2s\n",
            "[CV] model__solver=saga, model__random_state=42, model__penalty=elasticnet, model__max_iter=100000, model__l1_ratio=0.5, model__C=0.001 \n"
          ],
          "name": "stdout"
        },
        {
          "output_type": "stream",
          "text": [
            "[Parallel(n_jobs=1)]: Done   5 out of   5 | elapsed:    1.1s remaining:    0.0s\n"
          ],
          "name": "stderr"
        },
        {
          "output_type": "stream",
          "text": [
            "[CV]  model__solver=saga, model__random_state=42, model__penalty=elasticnet, model__max_iter=100000, model__l1_ratio=0.5, model__C=0.001, score=0.893, total=   0.2s\n",
            "[CV] model__solver=saga, model__random_state=42, model__penalty=elasticnet, model__max_iter=100000, model__l1_ratio=0.7, model__C=0.1 \n"
          ],
          "name": "stdout"
        },
        {
          "output_type": "stream",
          "text": [
            "[Parallel(n_jobs=1)]: Done   6 out of   6 | elapsed:    1.4s remaining:    0.0s\n"
          ],
          "name": "stderr"
        },
        {
          "output_type": "stream",
          "text": [
            "[CV]  model__solver=saga, model__random_state=42, model__penalty=elasticnet, model__max_iter=100000, model__l1_ratio=0.7, model__C=0.1, score=0.989, total=   1.1s\n",
            "[CV] model__solver=saga, model__random_state=42, model__penalty=elasticnet, model__max_iter=100000, model__l1_ratio=0.7, model__C=0.1 \n"
          ],
          "name": "stdout"
        },
        {
          "output_type": "stream",
          "text": [
            "[Parallel(n_jobs=1)]: Done   7 out of   7 | elapsed:    2.5s remaining:    0.0s\n"
          ],
          "name": "stderr"
        },
        {
          "output_type": "stream",
          "text": [
            "[CV]  model__solver=saga, model__random_state=42, model__penalty=elasticnet, model__max_iter=100000, model__l1_ratio=0.7, model__C=0.1, score=0.991, total=   1.2s\n",
            "[CV] model__solver=saga, model__random_state=42, model__penalty=elasticnet, model__max_iter=100000, model__l1_ratio=0.7, model__C=0.1 \n"
          ],
          "name": "stdout"
        },
        {
          "output_type": "stream",
          "text": [
            "[Parallel(n_jobs=1)]: Done   8 out of   8 | elapsed:    3.6s remaining:    0.0s\n"
          ],
          "name": "stderr"
        },
        {
          "output_type": "stream",
          "text": [
            "[CV]  model__solver=saga, model__random_state=42, model__penalty=elasticnet, model__max_iter=100000, model__l1_ratio=0.7, model__C=0.1, score=0.985, total=   0.4s\n",
            "[CV] model__solver=saga, model__random_state=42, model__penalty=elasticnet, model__max_iter=100000, model__l1_ratio=0.7, model__C=0.01 \n"
          ],
          "name": "stdout"
        },
        {
          "output_type": "stream",
          "text": [
            "[Parallel(n_jobs=1)]: Done   9 out of   9 | elapsed:    4.0s remaining:    0.0s\n"
          ],
          "name": "stderr"
        },
        {
          "output_type": "stream",
          "text": [
            "[CV]  model__solver=saga, model__random_state=42, model__penalty=elasticnet, model__max_iter=100000, model__l1_ratio=0.7, model__C=0.01, score=0.977, total=   0.4s\n",
            "[CV] model__solver=saga, model__random_state=42, model__penalty=elasticnet, model__max_iter=100000, model__l1_ratio=0.7, model__C=0.01 \n",
            "[CV]  model__solver=saga, model__random_state=42, model__penalty=elasticnet, model__max_iter=100000, model__l1_ratio=0.7, model__C=0.01, score=0.985, total=   0.4s\n",
            "[CV] model__solver=saga, model__random_state=42, model__penalty=elasticnet, model__max_iter=100000, model__l1_ratio=0.7, model__C=0.01 \n",
            "[CV]  model__solver=saga, model__random_state=42, model__penalty=elasticnet, model__max_iter=100000, model__l1_ratio=0.7, model__C=0.01, score=0.969, total=   0.2s\n",
            "[CV] model__solver=saga, model__random_state=42, model__penalty=elasticnet, model__max_iter=100000, model__l1_ratio=0.3, model__C=0.01 \n",
            "[CV]  model__solver=saga, model__random_state=42, model__penalty=elasticnet, model__max_iter=100000, model__l1_ratio=0.3, model__C=0.01, score=0.974, total=   0.4s\n",
            "[CV] model__solver=saga, model__random_state=42, model__penalty=elasticnet, model__max_iter=100000, model__l1_ratio=0.3, model__C=0.01 \n",
            "[CV]  model__solver=saga, model__random_state=42, model__penalty=elasticnet, model__max_iter=100000, model__l1_ratio=0.3, model__C=0.01, score=0.981, total=   0.4s\n",
            "[CV] model__solver=saga, model__random_state=42, model__penalty=elasticnet, model__max_iter=100000, model__l1_ratio=0.3, model__C=0.01 \n",
            "[CV]  model__solver=saga, model__random_state=42, model__penalty=elasticnet, model__max_iter=100000, model__l1_ratio=0.3, model__C=0.01, score=0.968, total=   0.2s\n",
            "[CV] model__solver=saga, model__random_state=42, model__penalty=elasticnet, model__max_iter=100000, model__l1_ratio=0.5, model__C=10 \n",
            "[CV]  model__solver=saga, model__random_state=42, model__penalty=elasticnet, model__max_iter=100000, model__l1_ratio=0.5, model__C=10, score=1.000, total=   6.3s\n",
            "[CV] model__solver=saga, model__random_state=42, model__penalty=elasticnet, model__max_iter=100000, model__l1_ratio=0.5, model__C=10 \n",
            "[CV]  model__solver=saga, model__random_state=42, model__penalty=elasticnet, model__max_iter=100000, model__l1_ratio=0.5, model__C=10, score=0.999, total=   5.7s\n",
            "[CV] model__solver=saga, model__random_state=42, model__penalty=elasticnet, model__max_iter=100000, model__l1_ratio=0.5, model__C=10 \n",
            "[CV]  model__solver=saga, model__random_state=42, model__penalty=elasticnet, model__max_iter=100000, model__l1_ratio=0.5, model__C=10, score=0.999, total=   2.6s\n",
            "[CV] model__solver=saga, model__random_state=42, model__penalty=elasticnet, model__max_iter=100000, model__l1_ratio=0.5, model__C=100 \n",
            "[CV]  model__solver=saga, model__random_state=42, model__penalty=elasticnet, model__max_iter=100000, model__l1_ratio=0.5, model__C=100, score=1.000, total=   6.6s\n",
            "[CV] model__solver=saga, model__random_state=42, model__penalty=elasticnet, model__max_iter=100000, model__l1_ratio=0.5, model__C=100 \n",
            "[CV]  model__solver=saga, model__random_state=42, model__penalty=elasticnet, model__max_iter=100000, model__l1_ratio=0.5, model__C=100, score=0.999, total=   6.0s\n",
            "[CV] model__solver=saga, model__random_state=42, model__penalty=elasticnet, model__max_iter=100000, model__l1_ratio=0.5, model__C=100 \n",
            "[CV]  model__solver=saga, model__random_state=42, model__penalty=elasticnet, model__max_iter=100000, model__l1_ratio=0.5, model__C=100, score=1.000, total=   4.3s\n",
            "[CV] model__solver=saga, model__random_state=42, model__penalty=elasticnet, model__max_iter=100000, model__l1_ratio=0.3, model__C=100 \n",
            "[CV]  model__solver=saga, model__random_state=42, model__penalty=elasticnet, model__max_iter=100000, model__l1_ratio=0.3, model__C=100, score=1.000, total=   6.6s\n",
            "[CV] model__solver=saga, model__random_state=42, model__penalty=elasticnet, model__max_iter=100000, model__l1_ratio=0.3, model__C=100 \n",
            "[CV]  model__solver=saga, model__random_state=42, model__penalty=elasticnet, model__max_iter=100000, model__l1_ratio=0.3, model__C=100, score=0.999, total=   5.9s\n",
            "[CV] model__solver=saga, model__random_state=42, model__penalty=elasticnet, model__max_iter=100000, model__l1_ratio=0.3, model__C=100 \n",
            "[CV]  model__solver=saga, model__random_state=42, model__penalty=elasticnet, model__max_iter=100000, model__l1_ratio=0.3, model__C=100, score=1.000, total=   4.1s\n",
            "[CV] model__solver=saga, model__random_state=42, model__penalty=elasticnet, model__max_iter=100000, model__l1_ratio=0.7, model__C=1 \n",
            "[CV]  model__solver=saga, model__random_state=42, model__penalty=elasticnet, model__max_iter=100000, model__l1_ratio=0.7, model__C=1, score=0.998, total=   5.0s\n",
            "[CV] model__solver=saga, model__random_state=42, model__penalty=elasticnet, model__max_iter=100000, model__l1_ratio=0.7, model__C=1 \n",
            "[CV]  model__solver=saga, model__random_state=42, model__penalty=elasticnet, model__max_iter=100000, model__l1_ratio=0.7, model__C=1, score=0.998, total=   4.1s\n",
            "[CV] model__solver=saga, model__random_state=42, model__penalty=elasticnet, model__max_iter=100000, model__l1_ratio=0.7, model__C=1 \n",
            "[CV]  model__solver=saga, model__random_state=42, model__penalty=elasticnet, model__max_iter=100000, model__l1_ratio=0.7, model__C=1, score=0.998, total=   1.1s\n",
            "[CV] model__solver=saga, model__random_state=42, model__penalty=elasticnet, model__max_iter=100000, model__l1_ratio=0.7, model__C=0.001 \n",
            "[CV]  model__solver=saga, model__random_state=42, model__penalty=elasticnet, model__max_iter=100000, model__l1_ratio=0.7, model__C=0.001, score=0.891, total=   0.2s\n",
            "[CV] model__solver=saga, model__random_state=42, model__penalty=elasticnet, model__max_iter=100000, model__l1_ratio=0.7, model__C=0.001 \n",
            "[CV]  model__solver=saga, model__random_state=42, model__penalty=elasticnet, model__max_iter=100000, model__l1_ratio=0.7, model__C=0.001, score=0.899, total=   0.2s\n",
            "[CV] model__solver=saga, model__random_state=42, model__penalty=elasticnet, model__max_iter=100000, model__l1_ratio=0.7, model__C=0.001 \n",
            "[CV]  model__solver=saga, model__random_state=42, model__penalty=elasticnet, model__max_iter=100000, model__l1_ratio=0.7, model__C=0.001, score=0.893, total=   0.2s\n"
          ],
          "name": "stdout"
        },
        {
          "output_type": "stream",
          "text": [
            "[Parallel(n_jobs=1)]: Done  30 out of  30 | elapsed:  1.1min finished\n"
          ],
          "name": "stderr"
        },
        {
          "output_type": "stream",
          "text": [
            "Fitting 3 folds for each of 10 candidates, totalling 30 fits\n",
            "[CV] model__random_state=42, model__loss=hinge, model__class_weight=balanced, model__C=0.1 \n",
            "[CV]  model__random_state=42, model__loss=hinge, model__class_weight=balanced, model__C=0.1, score=1.000, total=   0.2s\n",
            "[CV] model__random_state=42, model__loss=hinge, model__class_weight=balanced, model__C=0.1 \n"
          ],
          "name": "stdout"
        },
        {
          "output_type": "stream",
          "text": [
            "[Parallel(n_jobs=1)]: Using backend SequentialBackend with 1 concurrent workers.\n",
            "[Parallel(n_jobs=1)]: Done   1 out of   1 | elapsed:    0.2s remaining:    0.0s\n"
          ],
          "name": "stderr"
        },
        {
          "output_type": "stream",
          "text": [
            "[CV]  model__random_state=42, model__loss=hinge, model__class_weight=balanced, model__C=0.1, score=0.999, total=   0.2s\n",
            "[CV] model__random_state=42, model__loss=hinge, model__class_weight=balanced, model__C=0.1 \n"
          ],
          "name": "stdout"
        },
        {
          "output_type": "stream",
          "text": [
            "[Parallel(n_jobs=1)]: Done   2 out of   2 | elapsed:    0.4s remaining:    0.0s\n"
          ],
          "name": "stderr"
        },
        {
          "output_type": "stream",
          "text": [
            "[CV]  model__random_state=42, model__loss=hinge, model__class_weight=balanced, model__C=0.1, score=1.000, total=   0.2s\n",
            "[CV] model__random_state=42, model__loss=hinge, model__class_weight=balanced, model__C=10 \n"
          ],
          "name": "stdout"
        },
        {
          "output_type": "stream",
          "text": [
            "[Parallel(n_jobs=1)]: Done   3 out of   3 | elapsed:    0.6s remaining:    0.0s\n"
          ],
          "name": "stderr"
        },
        {
          "output_type": "stream",
          "text": [
            "[CV]  model__random_state=42, model__loss=hinge, model__class_weight=balanced, model__C=10, score=1.000, total=   0.2s\n",
            "[CV] model__random_state=42, model__loss=hinge, model__class_weight=balanced, model__C=10 \n",
            "[CV]  model__random_state=42, model__loss=hinge, model__class_weight=balanced, model__C=10, score=0.999, total=   0.2s\n",
            "[CV] model__random_state=42, model__loss=hinge, model__class_weight=balanced, model__C=10 \n"
          ],
          "name": "stdout"
        },
        {
          "output_type": "stream",
          "text": [
            "[Parallel(n_jobs=1)]: Done   4 out of   4 | elapsed:    0.8s remaining:    0.0s\n",
            "[Parallel(n_jobs=1)]: Done   5 out of   5 | elapsed:    1.0s remaining:    0.0s\n"
          ],
          "name": "stderr"
        },
        {
          "output_type": "stream",
          "text": [
            "[CV]  model__random_state=42, model__loss=hinge, model__class_weight=balanced, model__C=10, score=1.000, total=   0.2s\n",
            "[CV] model__random_state=42, model__loss=hinge, model__class_weight=balanced, model__C=0.001 \n"
          ],
          "name": "stdout"
        },
        {
          "output_type": "stream",
          "text": [
            "[Parallel(n_jobs=1)]: Done   6 out of   6 | elapsed:    1.2s remaining:    0.0s\n"
          ],
          "name": "stderr"
        },
        {
          "output_type": "stream",
          "text": [
            "[CV]  model__random_state=42, model__loss=hinge, model__class_weight=balanced, model__C=0.001, score=0.995, total=   0.2s\n",
            "[CV] model__random_state=42, model__loss=hinge, model__class_weight=balanced, model__C=0.001 \n"
          ],
          "name": "stdout"
        },
        {
          "output_type": "stream",
          "text": [
            "[Parallel(n_jobs=1)]: Done   7 out of   7 | elapsed:    1.4s remaining:    0.0s\n"
          ],
          "name": "stderr"
        },
        {
          "output_type": "stream",
          "text": [
            "[CV]  model__random_state=42, model__loss=hinge, model__class_weight=balanced, model__C=0.001, score=0.995, total=   0.2s\n",
            "[CV] model__random_state=42, model__loss=hinge, model__class_weight=balanced, model__C=0.001 \n",
            "[CV]  model__random_state=42, model__loss=hinge, model__class_weight=balanced, model__C=0.001, score=0.992, total=   0.2s\n",
            "[CV] model__random_state=42, model__loss=hinge, model__class_weight=None, model__C=10 \n"
          ],
          "name": "stdout"
        },
        {
          "output_type": "stream",
          "text": [
            "[Parallel(n_jobs=1)]: Done   8 out of   8 | elapsed:    1.6s remaining:    0.0s\n",
            "[Parallel(n_jobs=1)]: Done   9 out of   9 | elapsed:    1.8s remaining:    0.0s\n"
          ],
          "name": "stderr"
        },
        {
          "output_type": "stream",
          "text": [
            "[CV]  model__random_state=42, model__loss=hinge, model__class_weight=None, model__C=10, score=1.000, total=   0.2s\n",
            "[CV] model__random_state=42, model__loss=hinge, model__class_weight=None, model__C=10 \n",
            "[CV]  model__random_state=42, model__loss=hinge, model__class_weight=None, model__C=10, score=0.999, total=   0.2s\n",
            "[CV] model__random_state=42, model__loss=hinge, model__class_weight=None, model__C=10 \n",
            "[CV]  model__random_state=42, model__loss=hinge, model__class_weight=None, model__C=10, score=1.000, total=   0.2s\n",
            "[CV] model__random_state=42, model__loss=squared_hinge, model__class_weight=None, model__C=0.1 \n",
            "[CV]  model__random_state=42, model__loss=squared_hinge, model__class_weight=None, model__C=0.1, score=1.000, total=   0.2s\n",
            "[CV] model__random_state=42, model__loss=squared_hinge, model__class_weight=None, model__C=0.1 \n",
            "[CV]  model__random_state=42, model__loss=squared_hinge, model__class_weight=None, model__C=0.1, score=0.999, total=   0.2s\n",
            "[CV] model__random_state=42, model__loss=squared_hinge, model__class_weight=None, model__C=0.1 \n",
            "[CV]  model__random_state=42, model__loss=squared_hinge, model__class_weight=None, model__C=0.1, score=1.000, total=   0.2s\n",
            "[CV] model__random_state=42, model__loss=squared_hinge, model__class_weight=balanced, model__C=0.1 \n",
            "[CV]  model__random_state=42, model__loss=squared_hinge, model__class_weight=balanced, model__C=0.1, score=1.000, total=   0.2s\n",
            "[CV] model__random_state=42, model__loss=squared_hinge, model__class_weight=balanced, model__C=0.1 \n",
            "[CV]  model__random_state=42, model__loss=squared_hinge, model__class_weight=balanced, model__C=0.1, score=0.999, total=   0.2s\n",
            "[CV] model__random_state=42, model__loss=squared_hinge, model__class_weight=balanced, model__C=0.1 \n",
            "[CV]  model__random_state=42, model__loss=squared_hinge, model__class_weight=balanced, model__C=0.1, score=1.000, total=   0.2s\n",
            "[CV] model__random_state=42, model__loss=squared_hinge, model__class_weight=balanced, model__C=1 \n",
            "[CV]  model__random_state=42, model__loss=squared_hinge, model__class_weight=balanced, model__C=1, score=1.000, total=   0.2s\n",
            "[CV] model__random_state=42, model__loss=squared_hinge, model__class_weight=balanced, model__C=1 \n",
            "[CV]  model__random_state=42, model__loss=squared_hinge, model__class_weight=balanced, model__C=1, score=0.999, total=   0.2s\n",
            "[CV] model__random_state=42, model__loss=squared_hinge, model__class_weight=balanced, model__C=1 \n",
            "[CV]  model__random_state=42, model__loss=squared_hinge, model__class_weight=balanced, model__C=1, score=1.000, total=   0.2s\n",
            "[CV] model__random_state=42, model__loss=squared_hinge, model__class_weight=balanced, model__C=0.001 \n",
            "[CV]  model__random_state=42, model__loss=squared_hinge, model__class_weight=balanced, model__C=0.001, score=0.998, total=   0.2s\n",
            "[CV] model__random_state=42, model__loss=squared_hinge, model__class_weight=balanced, model__C=0.001 \n",
            "[CV]  model__random_state=42, model__loss=squared_hinge, model__class_weight=balanced, model__C=0.001, score=0.997, total=   0.2s\n",
            "[CV] model__random_state=42, model__loss=squared_hinge, model__class_weight=balanced, model__C=0.001 \n",
            "[CV]  model__random_state=42, model__loss=squared_hinge, model__class_weight=balanced, model__C=0.001, score=0.997, total=   0.2s\n",
            "[CV] model__random_state=42, model__loss=squared_hinge, model__class_weight=balanced, model__C=100 \n",
            "[CV]  model__random_state=42, model__loss=squared_hinge, model__class_weight=balanced, model__C=100, score=1.000, total=   0.2s\n",
            "[CV] model__random_state=42, model__loss=squared_hinge, model__class_weight=balanced, model__C=100 \n",
            "[CV]  model__random_state=42, model__loss=squared_hinge, model__class_weight=balanced, model__C=100, score=0.999, total=   0.2s\n",
            "[CV] model__random_state=42, model__loss=squared_hinge, model__class_weight=balanced, model__C=100 \n",
            "[CV]  model__random_state=42, model__loss=squared_hinge, model__class_weight=balanced, model__C=100, score=1.000, total=   0.2s\n",
            "[CV] model__random_state=42, model__loss=squared_hinge, model__class_weight=balanced, model__C=0.01 \n",
            "[CV]  model__random_state=42, model__loss=squared_hinge, model__class_weight=balanced, model__C=0.01, score=1.000, total=   0.2s\n",
            "[CV] model__random_state=42, model__loss=squared_hinge, model__class_weight=balanced, model__C=0.01 \n",
            "[CV]  model__random_state=42, model__loss=squared_hinge, model__class_weight=balanced, model__C=0.01, score=0.996, total=   0.2s\n",
            "[CV] model__random_state=42, model__loss=squared_hinge, model__class_weight=balanced, model__C=0.01 \n",
            "[CV]  model__random_state=42, model__loss=squared_hinge, model__class_weight=balanced, model__C=0.01, score=0.999, total=   0.2s\n"
          ],
          "name": "stdout"
        },
        {
          "output_type": "stream",
          "text": [
            "[Parallel(n_jobs=1)]: Done  30 out of  30 | elapsed:    6.0s finished\n"
          ],
          "name": "stderr"
        },
        {
          "output_type": "stream",
          "text": [
            "Fitting 3 folds for each of 10 candidates, totalling 30 fits\n",
            "[CV] model__solver=cholesky, model__normalize=False, model__fit_intercept=False, model__class_weight=balanced, model__alpha=50.0 \n",
            "[CV]  model__solver=cholesky, model__normalize=False, model__fit_intercept=False, model__class_weight=balanced, model__alpha=50.0, score=0.879, total=   0.1s\n",
            "[CV] model__solver=cholesky, model__normalize=False, model__fit_intercept=False, model__class_weight=balanced, model__alpha=50.0 \n"
          ],
          "name": "stdout"
        },
        {
          "output_type": "stream",
          "text": [
            "[Parallel(n_jobs=1)]: Using backend SequentialBackend with 1 concurrent workers.\n",
            "[Parallel(n_jobs=1)]: Done   1 out of   1 | elapsed:    0.2s remaining:    0.0s\n"
          ],
          "name": "stderr"
        },
        {
          "output_type": "stream",
          "text": [
            "[CV]  model__solver=cholesky, model__normalize=False, model__fit_intercept=False, model__class_weight=balanced, model__alpha=50.0, score=0.906, total=   0.2s\n",
            "[CV] model__solver=cholesky, model__normalize=False, model__fit_intercept=False, model__class_weight=balanced, model__alpha=50.0 \n",
            "[CV]  model__solver=cholesky, model__normalize=False, model__fit_intercept=False, model__class_weight=balanced, model__alpha=50.0, score=0.889, total=   0.2s\n",
            "[CV] model__solver=svd, model__normalize=True, model__fit_intercept=False, model__class_weight=balanced, model__alpha=0.05 \n"
          ],
          "name": "stdout"
        },
        {
          "output_type": "stream",
          "text": [
            "[Parallel(n_jobs=1)]: Done   2 out of   2 | elapsed:    0.3s remaining:    0.0s\n",
            "[Parallel(n_jobs=1)]: Done   3 out of   3 | elapsed:    0.5s remaining:    0.0s\n"
          ],
          "name": "stderr"
        },
        {
          "output_type": "stream",
          "text": [
            "[CV]  model__solver=svd, model__normalize=True, model__fit_intercept=False, model__class_weight=balanced, model__alpha=0.05, score=0.975, total=   0.2s\n",
            "[CV] model__solver=svd, model__normalize=True, model__fit_intercept=False, model__class_weight=balanced, model__alpha=0.05 \n",
            "[CV]  model__solver=svd, model__normalize=True, model__fit_intercept=False, model__class_weight=balanced, model__alpha=0.05, score=0.984, total=   0.2s\n",
            "[CV] model__solver=svd, model__normalize=True, model__fit_intercept=False, model__class_weight=balanced, model__alpha=0.05 \n"
          ],
          "name": "stdout"
        },
        {
          "output_type": "stream",
          "text": [
            "[Parallel(n_jobs=1)]: Done   4 out of   4 | elapsed:    0.7s remaining:    0.0s\n",
            "[Parallel(n_jobs=1)]: Done   5 out of   5 | elapsed:    0.9s remaining:    0.0s\n"
          ],
          "name": "stderr"
        },
        {
          "output_type": "stream",
          "text": [
            "[CV]  model__solver=svd, model__normalize=True, model__fit_intercept=False, model__class_weight=balanced, model__alpha=0.05, score=0.971, total=   0.2s\n",
            "[CV] model__solver=svd, model__normalize=False, model__fit_intercept=False, model__class_weight=balanced, model__alpha=5.0 \n",
            "[CV]  model__solver=svd, model__normalize=False, model__fit_intercept=False, model__class_weight=balanced, model__alpha=5.0, score=0.894, total=   0.2s\n",
            "[CV] model__solver=svd, model__normalize=False, model__fit_intercept=False, model__class_weight=balanced, model__alpha=5.0 \n"
          ],
          "name": "stdout"
        },
        {
          "output_type": "stream",
          "text": [
            "[Parallel(n_jobs=1)]: Done   6 out of   6 | elapsed:    1.1s remaining:    0.0s\n",
            "[Parallel(n_jobs=1)]: Done   7 out of   7 | elapsed:    1.3s remaining:    0.0s\n"
          ],
          "name": "stderr"
        },
        {
          "output_type": "stream",
          "text": [
            "[CV]  model__solver=svd, model__normalize=False, model__fit_intercept=False, model__class_weight=balanced, model__alpha=5.0, score=0.925, total=   0.2s\n",
            "[CV] model__solver=svd, model__normalize=False, model__fit_intercept=False, model__class_weight=balanced, model__alpha=5.0 \n",
            "[CV]  model__solver=svd, model__normalize=False, model__fit_intercept=False, model__class_weight=balanced, model__alpha=5.0, score=0.906, total=   0.2s\n",
            "[CV] model__solver=sparse_cg, model__normalize=False, model__fit_intercept=False, model__class_weight=balanced, model__alpha=0.05 \n"
          ],
          "name": "stdout"
        },
        {
          "output_type": "stream",
          "text": [
            "[Parallel(n_jobs=1)]: Done   8 out of   8 | elapsed:    1.5s remaining:    0.0s\n",
            "[Parallel(n_jobs=1)]: Done   9 out of   9 | elapsed:    1.7s remaining:    0.0s\n"
          ],
          "name": "stderr"
        },
        {
          "output_type": "stream",
          "text": [
            "[CV]  model__solver=sparse_cg, model__normalize=False, model__fit_intercept=False, model__class_weight=balanced, model__alpha=0.05, score=0.974, total=   0.2s\n",
            "[CV] model__solver=sparse_cg, model__normalize=False, model__fit_intercept=False, model__class_weight=balanced, model__alpha=0.05 \n",
            "[CV]  model__solver=sparse_cg, model__normalize=False, model__fit_intercept=False, model__class_weight=balanced, model__alpha=0.05, score=0.984, total=   0.2s\n",
            "[CV] model__solver=sparse_cg, model__normalize=False, model__fit_intercept=False, model__class_weight=balanced, model__alpha=0.05 \n",
            "[CV]  model__solver=sparse_cg, model__normalize=False, model__fit_intercept=False, model__class_weight=balanced, model__alpha=0.05, score=0.971, total=   0.2s\n",
            "[CV] model__solver=cholesky, model__normalize=True, model__fit_intercept=True, model__class_weight=None, model__alpha=0.5 \n",
            "[CV]  model__solver=cholesky, model__normalize=True, model__fit_intercept=True, model__class_weight=None, model__alpha=0.5, score=0.970, total=   0.2s\n",
            "[CV] model__solver=cholesky, model__normalize=True, model__fit_intercept=True, model__class_weight=None, model__alpha=0.5 \n",
            "[CV]  model__solver=cholesky, model__normalize=True, model__fit_intercept=True, model__class_weight=None, model__alpha=0.5, score=0.977, total=   0.2s\n",
            "[CV] model__solver=cholesky, model__normalize=True, model__fit_intercept=True, model__class_weight=None, model__alpha=0.5 \n",
            "[CV]  model__solver=cholesky, model__normalize=True, model__fit_intercept=True, model__class_weight=None, model__alpha=0.5, score=0.964, total=   0.2s\n",
            "[CV] model__solver=cholesky, model__normalize=True, model__fit_intercept=True, model__class_weight=None, model__alpha=0.005 \n",
            "[CV]  model__solver=cholesky, model__normalize=True, model__fit_intercept=True, model__class_weight=None, model__alpha=0.005, score=0.986, total=   0.2s\n",
            "[CV] model__solver=cholesky, model__normalize=True, model__fit_intercept=True, model__class_weight=None, model__alpha=0.005 \n",
            "[CV]  model__solver=cholesky, model__normalize=True, model__fit_intercept=True, model__class_weight=None, model__alpha=0.005, score=0.981, total=   0.2s\n",
            "[CV] model__solver=cholesky, model__normalize=True, model__fit_intercept=True, model__class_weight=None, model__alpha=0.005 \n",
            "[CV]  model__solver=cholesky, model__normalize=True, model__fit_intercept=True, model__class_weight=None, model__alpha=0.005, score=0.983, total=   0.2s\n",
            "[CV] model__solver=sparse_cg, model__normalize=False, model__fit_intercept=False, model__class_weight=balanced, model__alpha=500.0 \n",
            "[CV]  model__solver=sparse_cg, model__normalize=False, model__fit_intercept=False, model__class_weight=balanced, model__alpha=500.0, score=0.879, total=   0.2s\n",
            "[CV] model__solver=sparse_cg, model__normalize=False, model__fit_intercept=False, model__class_weight=balanced, model__alpha=500.0 \n",
            "[CV]  model__solver=sparse_cg, model__normalize=False, model__fit_intercept=False, model__class_weight=balanced, model__alpha=500.0, score=0.905, total=   0.2s\n",
            "[CV] model__solver=sparse_cg, model__normalize=False, model__fit_intercept=False, model__class_weight=balanced, model__alpha=500.0 \n",
            "[CV]  model__solver=sparse_cg, model__normalize=False, model__fit_intercept=False, model__class_weight=balanced, model__alpha=500.0, score=0.885, total=   0.2s\n",
            "[CV] model__solver=lsqr, model__normalize=True, model__fit_intercept=True, model__class_weight=None, model__alpha=500.0 \n",
            "[CV]  model__solver=lsqr, model__normalize=True, model__fit_intercept=True, model__class_weight=None, model__alpha=500.0, score=0.879, total=   0.2s\n",
            "[CV] model__solver=lsqr, model__normalize=True, model__fit_intercept=True, model__class_weight=None, model__alpha=500.0 \n",
            "[CV]  model__solver=lsqr, model__normalize=True, model__fit_intercept=True, model__class_weight=None, model__alpha=500.0, score=0.905, total=   0.2s\n",
            "[CV] model__solver=lsqr, model__normalize=True, model__fit_intercept=True, model__class_weight=None, model__alpha=500.0 \n",
            "[CV]  model__solver=lsqr, model__normalize=True, model__fit_intercept=True, model__class_weight=None, model__alpha=500.0, score=0.885, total=   0.2s\n",
            "[CV] model__solver=svd, model__normalize=True, model__fit_intercept=True, model__class_weight=None, model__alpha=500.0 \n",
            "[CV]  model__solver=svd, model__normalize=True, model__fit_intercept=True, model__class_weight=None, model__alpha=500.0, score=0.879, total=   0.2s\n",
            "[CV] model__solver=svd, model__normalize=True, model__fit_intercept=True, model__class_weight=None, model__alpha=500.0 \n",
            "[CV]  model__solver=svd, model__normalize=True, model__fit_intercept=True, model__class_weight=None, model__alpha=500.0, score=0.905, total=   0.2s\n",
            "[CV] model__solver=svd, model__normalize=True, model__fit_intercept=True, model__class_weight=None, model__alpha=500.0 \n",
            "[CV]  model__solver=svd, model__normalize=True, model__fit_intercept=True, model__class_weight=None, model__alpha=500.0, score=0.885, total=   0.2s\n",
            "[CV] model__solver=cholesky, model__normalize=True, model__fit_intercept=False, model__class_weight=balanced, model__alpha=500.0 \n",
            "[CV]  model__solver=cholesky, model__normalize=True, model__fit_intercept=False, model__class_weight=balanced, model__alpha=500.0, score=0.879, total=   0.2s\n",
            "[CV] model__solver=cholesky, model__normalize=True, model__fit_intercept=False, model__class_weight=balanced, model__alpha=500.0 \n",
            "[CV]  model__solver=cholesky, model__normalize=True, model__fit_intercept=False, model__class_weight=balanced, model__alpha=500.0, score=0.905, total=   0.2s\n",
            "[CV] model__solver=cholesky, model__normalize=True, model__fit_intercept=False, model__class_weight=balanced, model__alpha=500.0 \n",
            "[CV]  model__solver=cholesky, model__normalize=True, model__fit_intercept=False, model__class_weight=balanced, model__alpha=500.0, score=0.885, total=   0.2s\n"
          ],
          "name": "stdout"
        },
        {
          "output_type": "stream",
          "text": [
            "[Parallel(n_jobs=1)]: Done  30 out of  30 | elapsed:    5.8s finished\n"
          ],
          "name": "stderr"
        },
        {
          "output_type": "stream",
          "text": [
            "Fitting 3 folds for each of 10 candidates, totalling 30 fits\n",
            "[CV] model__p=1, model__n_neighbors=7 ................................\n"
          ],
          "name": "stdout"
        },
        {
          "output_type": "stream",
          "text": [
            "[Parallel(n_jobs=1)]: Using backend SequentialBackend with 1 concurrent workers.\n"
          ],
          "name": "stderr"
        },
        {
          "output_type": "stream",
          "text": [
            "[CV] .... model__p=1, model__n_neighbors=7, score=0.999, total=   0.6s\n",
            "[CV] model__p=1, model__n_neighbors=7 ................................\n"
          ],
          "name": "stdout"
        },
        {
          "output_type": "stream",
          "text": [
            "[Parallel(n_jobs=1)]: Done   1 out of   1 | elapsed:    0.6s remaining:    0.0s\n"
          ],
          "name": "stderr"
        },
        {
          "output_type": "stream",
          "text": [
            "[CV] .... model__p=1, model__n_neighbors=7, score=0.999, total=   0.5s\n",
            "[CV] model__p=1, model__n_neighbors=7 ................................\n"
          ],
          "name": "stdout"
        },
        {
          "output_type": "stream",
          "text": [
            "[Parallel(n_jobs=1)]: Done   2 out of   2 | elapsed:    1.1s remaining:    0.0s\n"
          ],
          "name": "stderr"
        },
        {
          "output_type": "stream",
          "text": [
            "[CV] .... model__p=1, model__n_neighbors=7, score=0.997, total=   0.5s\n",
            "[CV] model__p=5, model__n_neighbors=7 ................................\n"
          ],
          "name": "stdout"
        },
        {
          "output_type": "stream",
          "text": [
            "[Parallel(n_jobs=1)]: Done   3 out of   3 | elapsed:    1.6s remaining:    0.0s\n"
          ],
          "name": "stderr"
        },
        {
          "output_type": "stream",
          "text": [
            "[CV] .... model__p=5, model__n_neighbors=7, score=0.992, total=   6.0s\n",
            "[CV] model__p=5, model__n_neighbors=7 ................................\n"
          ],
          "name": "stdout"
        },
        {
          "output_type": "stream",
          "text": [
            "[Parallel(n_jobs=1)]: Done   4 out of   4 | elapsed:    7.6s remaining:    0.0s\n"
          ],
          "name": "stderr"
        },
        {
          "output_type": "stream",
          "text": [
            "[CV] .... model__p=5, model__n_neighbors=7, score=0.996, total=   6.1s\n",
            "[CV] model__p=5, model__n_neighbors=7 ................................\n"
          ],
          "name": "stdout"
        },
        {
          "output_type": "stream",
          "text": [
            "[Parallel(n_jobs=1)]: Done   5 out of   5 | elapsed:   13.7s remaining:    0.0s\n"
          ],
          "name": "stderr"
        },
        {
          "output_type": "stream",
          "text": [
            "[CV] .... model__p=5, model__n_neighbors=7, score=0.994, total=   6.0s\n",
            "[CV] model__p=1, model__n_neighbors=1 ................................\n"
          ],
          "name": "stdout"
        },
        {
          "output_type": "stream",
          "text": [
            "[Parallel(n_jobs=1)]: Done   6 out of   6 | elapsed:   19.7s remaining:    0.0s\n"
          ],
          "name": "stderr"
        },
        {
          "output_type": "stream",
          "text": [
            "[CV] .... model__p=1, model__n_neighbors=1, score=0.999, total=   0.5s\n",
            "[CV] model__p=1, model__n_neighbors=1 ................................\n"
          ],
          "name": "stdout"
        },
        {
          "output_type": "stream",
          "text": [
            "[Parallel(n_jobs=1)]: Done   7 out of   7 | elapsed:   20.2s remaining:    0.0s\n"
          ],
          "name": "stderr"
        },
        {
          "output_type": "stream",
          "text": [
            "[CV] .... model__p=1, model__n_neighbors=1, score=1.000, total=   0.5s\n",
            "[CV] model__p=1, model__n_neighbors=1 ................................\n"
          ],
          "name": "stdout"
        },
        {
          "output_type": "stream",
          "text": [
            "[Parallel(n_jobs=1)]: Done   8 out of   8 | elapsed:   20.7s remaining:    0.0s\n"
          ],
          "name": "stderr"
        },
        {
          "output_type": "stream",
          "text": [
            "[CV] .... model__p=1, model__n_neighbors=1, score=1.000, total=   0.5s\n",
            "[CV] model__p=2, model__n_neighbors=9 ................................\n"
          ],
          "name": "stdout"
        },
        {
          "output_type": "stream",
          "text": [
            "[Parallel(n_jobs=1)]: Done   9 out of   9 | elapsed:   21.2s remaining:    0.0s\n"
          ],
          "name": "stderr"
        },
        {
          "output_type": "stream",
          "text": [
            "[CV] .... model__p=2, model__n_neighbors=9, score=0.997, total=   0.5s\n",
            "[CV] model__p=2, model__n_neighbors=9 ................................\n",
            "[CV] .... model__p=2, model__n_neighbors=9, score=0.999, total=   0.5s\n",
            "[CV] model__p=2, model__n_neighbors=9 ................................\n",
            "[CV] .... model__p=2, model__n_neighbors=9, score=0.998, total=   0.5s\n",
            "[CV] model__p=5, model__n_neighbors=3 ................................\n",
            "[CV] .... model__p=5, model__n_neighbors=3, score=0.998, total=   6.0s\n",
            "[CV] model__p=5, model__n_neighbors=3 ................................\n",
            "[CV] .... model__p=5, model__n_neighbors=3, score=0.999, total=   6.1s\n",
            "[CV] model__p=5, model__n_neighbors=3 ................................\n",
            "[CV] .... model__p=5, model__n_neighbors=3, score=0.997, total=   5.9s\n",
            "[CV] model__p=5, model__n_neighbors=5 ................................\n",
            "[CV] .... model__p=5, model__n_neighbors=5, score=0.994, total=   6.0s\n",
            "[CV] model__p=5, model__n_neighbors=5 ................................\n",
            "[CV] .... model__p=5, model__n_neighbors=5, score=0.997, total=   6.1s\n",
            "[CV] model__p=5, model__n_neighbors=5 ................................\n",
            "[CV] .... model__p=5, model__n_neighbors=5, score=0.995, total=   5.9s\n",
            "[CV] model__p=5, model__n_neighbors=1 ................................\n",
            "[CV] .... model__p=5, model__n_neighbors=1, score=0.999, total=   6.0s\n",
            "[CV] model__p=5, model__n_neighbors=1 ................................\n",
            "[CV] .... model__p=5, model__n_neighbors=1, score=0.998, total=   6.0s\n",
            "[CV] model__p=5, model__n_neighbors=1 ................................\n",
            "[CV] .... model__p=5, model__n_neighbors=1, score=0.999, total=   5.9s\n",
            "[CV] model__p=2, model__n_neighbors=1 ................................\n",
            "[CV] .... model__p=2, model__n_neighbors=1, score=0.999, total=   0.5s\n",
            "[CV] model__p=2, model__n_neighbors=1 ................................\n",
            "[CV] .... model__p=2, model__n_neighbors=1, score=1.000, total=   0.5s\n",
            "[CV] model__p=2, model__n_neighbors=1 ................................\n",
            "[CV] .... model__p=2, model__n_neighbors=1, score=1.000, total=   0.5s\n",
            "[CV] model__p=5, model__n_neighbors=9 ................................\n",
            "[CV] .... model__p=5, model__n_neighbors=9, score=0.989, total=   6.1s\n",
            "[CV] model__p=5, model__n_neighbors=9 ................................\n",
            "[CV] .... model__p=5, model__n_neighbors=9, score=0.996, total=   6.1s\n",
            "[CV] model__p=5, model__n_neighbors=9 ................................\n",
            "[CV] .... model__p=5, model__n_neighbors=9, score=0.988, total=   6.0s\n",
            "[CV] model__p=2, model__n_neighbors=3 ................................\n",
            "[CV] .... model__p=2, model__n_neighbors=3, score=0.999, total=   0.5s\n",
            "[CV] model__p=2, model__n_neighbors=3 ................................\n",
            "[CV] .... model__p=2, model__n_neighbors=3, score=1.000, total=   0.5s\n",
            "[CV] model__p=2, model__n_neighbors=3 ................................\n",
            "[CV] .... model__p=2, model__n_neighbors=3, score=0.999, total=   0.5s\n"
          ],
          "name": "stdout"
        },
        {
          "output_type": "stream",
          "text": [
            "[Parallel(n_jobs=1)]: Done  30 out of  30 | elapsed:  1.6min finished\n"
          ],
          "name": "stderr"
        },
        {
          "output_type": "stream",
          "text": [
            "Fitting 3 folds for each of 10 candidates, totalling 30 fits\n",
            "[CV] model__gamma=auto, model__C=10 ..................................\n"
          ],
          "name": "stdout"
        },
        {
          "output_type": "stream",
          "text": [
            "[Parallel(n_jobs=1)]: Using backend SequentialBackend with 1 concurrent workers.\n"
          ],
          "name": "stderr"
        },
        {
          "output_type": "stream",
          "text": [
            "[CV] ...... model__gamma=auto, model__C=10, score=1.000, total=   0.4s\n",
            "[CV] model__gamma=auto, model__C=10 ..................................\n"
          ],
          "name": "stdout"
        },
        {
          "output_type": "stream",
          "text": [
            "[Parallel(n_jobs=1)]: Done   1 out of   1 | elapsed:    0.4s remaining:    0.0s\n"
          ],
          "name": "stderr"
        },
        {
          "output_type": "stream",
          "text": [
            "[CV] ...... model__gamma=auto, model__C=10, score=0.999, total=   0.4s\n",
            "[CV] model__gamma=auto, model__C=10 ..................................\n"
          ],
          "name": "stdout"
        },
        {
          "output_type": "stream",
          "text": [
            "[Parallel(n_jobs=1)]: Done   2 out of   2 | elapsed:    0.8s remaining:    0.0s\n"
          ],
          "name": "stderr"
        },
        {
          "output_type": "stream",
          "text": [
            "[CV] ...... model__gamma=auto, model__C=10, score=1.000, total=   0.4s\n",
            "[CV] model__gamma=auto, model__C=100 .................................\n"
          ],
          "name": "stdout"
        },
        {
          "output_type": "stream",
          "text": [
            "[Parallel(n_jobs=1)]: Done   3 out of   3 | elapsed:    1.2s remaining:    0.0s\n"
          ],
          "name": "stderr"
        },
        {
          "output_type": "stream",
          "text": [
            "[CV] ..... model__gamma=auto, model__C=100, score=1.000, total=   0.4s\n",
            "[CV] model__gamma=auto, model__C=100 .................................\n"
          ],
          "name": "stdout"
        },
        {
          "output_type": "stream",
          "text": [
            "[Parallel(n_jobs=1)]: Done   4 out of   4 | elapsed:    1.6s remaining:    0.0s\n"
          ],
          "name": "stderr"
        },
        {
          "output_type": "stream",
          "text": [
            "[CV] ..... model__gamma=auto, model__C=100, score=0.999, total=   0.4s\n",
            "[CV] model__gamma=auto, model__C=100 .................................\n"
          ],
          "name": "stdout"
        },
        {
          "output_type": "stream",
          "text": [
            "[Parallel(n_jobs=1)]: Done   5 out of   5 | elapsed:    2.0s remaining:    0.0s\n"
          ],
          "name": "stderr"
        },
        {
          "output_type": "stream",
          "text": [
            "[CV] ..... model__gamma=auto, model__C=100, score=1.000, total=   0.4s\n",
            "[CV] model__gamma=scale, model__C=0.001 ..............................\n"
          ],
          "name": "stdout"
        },
        {
          "output_type": "stream",
          "text": [
            "[Parallel(n_jobs=1)]: Done   6 out of   6 | elapsed:    2.4s remaining:    0.0s\n"
          ],
          "name": "stderr"
        },
        {
          "output_type": "stream",
          "text": [
            "[CV] .. model__gamma=scale, model__C=0.001, score=0.871, total=   1.3s\n",
            "[CV] model__gamma=scale, model__C=0.001 ..............................\n"
          ],
          "name": "stdout"
        },
        {
          "output_type": "stream",
          "text": [
            "[Parallel(n_jobs=1)]: Done   7 out of   7 | elapsed:    3.7s remaining:    0.0s\n"
          ],
          "name": "stderr"
        },
        {
          "output_type": "stream",
          "text": [
            "[CV] .. model__gamma=scale, model__C=0.001, score=0.906, total=   1.3s\n",
            "[CV] model__gamma=scale, model__C=0.001 ..............................\n"
          ],
          "name": "stdout"
        },
        {
          "output_type": "stream",
          "text": [
            "[Parallel(n_jobs=1)]: Done   8 out of   8 | elapsed:    5.1s remaining:    0.0s\n"
          ],
          "name": "stderr"
        },
        {
          "output_type": "stream",
          "text": [
            "[CV] .. model__gamma=scale, model__C=0.001, score=0.880, total=   1.3s\n",
            "[CV] model__gamma=scale, model__C=1000 ...............................\n"
          ],
          "name": "stdout"
        },
        {
          "output_type": "stream",
          "text": [
            "[Parallel(n_jobs=1)]: Done   9 out of   9 | elapsed:    6.4s remaining:    0.0s\n"
          ],
          "name": "stderr"
        },
        {
          "output_type": "stream",
          "text": [
            "[CV] ... model__gamma=scale, model__C=1000, score=1.000, total=   0.4s\n",
            "[CV] model__gamma=scale, model__C=1000 ...............................\n",
            "[CV] ... model__gamma=scale, model__C=1000, score=0.999, total=   0.4s\n",
            "[CV] model__gamma=scale, model__C=1000 ...............................\n",
            "[CV] ... model__gamma=scale, model__C=1000, score=1.000, total=   0.4s\n",
            "[CV] model__gamma=auto, model__C=0.1 .................................\n",
            "[CV] ..... model__gamma=auto, model__C=0.1, score=0.987, total=   0.5s\n",
            "[CV] model__gamma=auto, model__C=0.1 .................................\n",
            "[CV] ..... model__gamma=auto, model__C=0.1, score=0.998, total=   0.5s\n",
            "[CV] model__gamma=auto, model__C=0.1 .................................\n",
            "[CV] ..... model__gamma=auto, model__C=0.1, score=0.987, total=   0.5s\n",
            "[CV] model__gamma=scale, model__C=10 .................................\n",
            "[CV] ..... model__gamma=scale, model__C=10, score=1.000, total=   0.4s\n",
            "[CV] model__gamma=scale, model__C=10 .................................\n",
            "[CV] ..... model__gamma=scale, model__C=10, score=0.999, total=   0.4s\n",
            "[CV] model__gamma=scale, model__C=10 .................................\n",
            "[CV] ..... model__gamma=scale, model__C=10, score=1.000, total=   0.4s\n",
            "[CV] model__gamma=scale, model__C=0.01 ...............................\n",
            "[CV] ... model__gamma=scale, model__C=0.01, score=0.876, total=   1.1s\n",
            "[CV] model__gamma=scale, model__C=0.01 ...............................\n",
            "[CV] ... model__gamma=scale, model__C=0.01, score=0.907, total=   1.1s\n",
            "[CV] model__gamma=scale, model__C=0.01 ...............................\n",
            "[CV] ... model__gamma=scale, model__C=0.01, score=0.881, total=   1.1s\n",
            "[CV] model__gamma=auto, model__C=0.001 ...............................\n",
            "[CV] ... model__gamma=auto, model__C=0.001, score=0.871, total=   1.3s\n",
            "[CV] model__gamma=auto, model__C=0.001 ...............................\n",
            "[CV] ... model__gamma=auto, model__C=0.001, score=0.906, total=   1.3s\n",
            "[CV] model__gamma=auto, model__C=0.001 ...............................\n",
            "[CV] ... model__gamma=auto, model__C=0.001, score=0.880, total=   1.3s\n",
            "[CV] model__gamma=auto, model__C=1000 ................................\n",
            "[CV] .... model__gamma=auto, model__C=1000, score=1.000, total=   0.4s\n",
            "[CV] model__gamma=auto, model__C=1000 ................................\n",
            "[CV] .... model__gamma=auto, model__C=1000, score=0.999, total=   0.4s\n",
            "[CV] model__gamma=auto, model__C=1000 ................................\n",
            "[CV] .... model__gamma=auto, model__C=1000, score=1.000, total=   0.4s\n",
            "[CV] model__gamma=scale, model__C=0.1 ................................\n",
            "[CV] .... model__gamma=scale, model__C=0.1, score=0.987, total=   0.5s\n",
            "[CV] model__gamma=scale, model__C=0.1 ................................\n",
            "[CV] .... model__gamma=scale, model__C=0.1, score=0.998, total=   0.5s\n",
            "[CV] model__gamma=scale, model__C=0.1 ................................\n",
            "[CV] .... model__gamma=scale, model__C=0.1, score=0.987, total=   0.5s\n"
          ],
          "name": "stdout"
        },
        {
          "output_type": "stream",
          "text": [
            "[Parallel(n_jobs=1)]: Done  30 out of  30 | elapsed:   20.2s finished\n"
          ],
          "name": "stderr"
        },
        {
          "output_type": "stream",
          "text": [
            "Fitting 3 folds for each of 10 candidates, totalling 30 fits\n",
            "[CV] model__min_samples_split=2, model__min_samples_leaf=1, model__max_features=None, model__max_depth=None, model__criterion=gini \n",
            "[CV]  model__min_samples_split=2, model__min_samples_leaf=1, model__max_features=None, model__max_depth=None, model__criterion=gini, score=1.000, total=   0.1s\n",
            "[CV] model__min_samples_split=2, model__min_samples_leaf=1, model__max_features=None, model__max_depth=None, model__criterion=gini \n"
          ],
          "name": "stdout"
        },
        {
          "output_type": "stream",
          "text": [
            "[Parallel(n_jobs=1)]: Using backend SequentialBackend with 1 concurrent workers.\n",
            "[Parallel(n_jobs=1)]: Done   1 out of   1 | elapsed:    0.1s remaining:    0.0s\n"
          ],
          "name": "stderr"
        },
        {
          "output_type": "stream",
          "text": [
            "[CV]  model__min_samples_split=2, model__min_samples_leaf=1, model__max_features=None, model__max_depth=None, model__criterion=gini, score=1.000, total=   0.2s\n",
            "[CV] model__min_samples_split=2, model__min_samples_leaf=1, model__max_features=None, model__max_depth=None, model__criterion=gini \n",
            "[CV]  model__min_samples_split=2, model__min_samples_leaf=1, model__max_features=None, model__max_depth=None, model__criterion=gini, score=1.000, total=   0.1s\n",
            "[CV] model__min_samples_split=2, model__min_samples_leaf=5, model__max_features=None, model__max_depth=30, model__criterion=gini \n"
          ],
          "name": "stdout"
        },
        {
          "output_type": "stream",
          "text": [
            "[Parallel(n_jobs=1)]: Done   2 out of   2 | elapsed:    0.3s remaining:    0.0s\n",
            "[Parallel(n_jobs=1)]: Done   3 out of   3 | elapsed:    0.4s remaining:    0.0s\n"
          ],
          "name": "stderr"
        },
        {
          "output_type": "stream",
          "text": [
            "[CV]  model__min_samples_split=2, model__min_samples_leaf=5, model__max_features=None, model__max_depth=30, model__criterion=gini, score=0.999, total=   0.2s\n",
            "[CV] model__min_samples_split=2, model__min_samples_leaf=5, model__max_features=None, model__max_depth=30, model__criterion=gini \n",
            "[CV]  model__min_samples_split=2, model__min_samples_leaf=5, model__max_features=None, model__max_depth=30, model__criterion=gini, score=0.997, total=   0.2s\n",
            "[CV] model__min_samples_split=2, model__min_samples_leaf=5, model__max_features=None, model__max_depth=30, model__criterion=gini \n"
          ],
          "name": "stdout"
        },
        {
          "output_type": "stream",
          "text": [
            "[Parallel(n_jobs=1)]: Done   4 out of   4 | elapsed:    0.6s remaining:    0.0s\n",
            "[Parallel(n_jobs=1)]: Done   5 out of   5 | elapsed:    0.8s remaining:    0.0s\n"
          ],
          "name": "stderr"
        },
        {
          "output_type": "stream",
          "text": [
            "[CV]  model__min_samples_split=2, model__min_samples_leaf=5, model__max_features=None, model__max_depth=30, model__criterion=gini, score=0.998, total=   0.1s\n",
            "[CV] model__min_samples_split=100, model__min_samples_leaf=5, model__max_features=None, model__max_depth=5, model__criterion=gini \n",
            "[CV]  model__min_samples_split=100, model__min_samples_leaf=5, model__max_features=None, model__max_depth=5, model__criterion=gini, score=0.981, total=   0.2s\n",
            "[CV] model__min_samples_split=100, model__min_samples_leaf=5, model__max_features=None, model__max_depth=5, model__criterion=gini \n"
          ],
          "name": "stdout"
        },
        {
          "output_type": "stream",
          "text": [
            "[Parallel(n_jobs=1)]: Done   6 out of   6 | elapsed:    0.9s remaining:    0.0s\n",
            "[Parallel(n_jobs=1)]: Done   7 out of   7 | elapsed:    1.1s remaining:    0.0s\n"
          ],
          "name": "stderr"
        },
        {
          "output_type": "stream",
          "text": [
            "[CV]  model__min_samples_split=100, model__min_samples_leaf=5, model__max_features=None, model__max_depth=5, model__criterion=gini, score=0.988, total=   0.2s\n",
            "[CV] model__min_samples_split=100, model__min_samples_leaf=5, model__max_features=None, model__max_depth=5, model__criterion=gini \n",
            "[CV]  model__min_samples_split=100, model__min_samples_leaf=5, model__max_features=None, model__max_depth=5, model__criterion=gini, score=0.974, total=   0.1s\n",
            "[CV] model__min_samples_split=15, model__min_samples_leaf=10, model__max_features=sqrt, model__max_depth=25, model__criterion=gini \n"
          ],
          "name": "stdout"
        },
        {
          "output_type": "stream",
          "text": [
            "[Parallel(n_jobs=1)]: Done   8 out of   8 | elapsed:    1.2s remaining:    0.0s\n",
            "[Parallel(n_jobs=1)]: Done   9 out of   9 | elapsed:    1.4s remaining:    0.0s\n"
          ],
          "name": "stderr"
        },
        {
          "output_type": "stream",
          "text": [
            "[CV]  model__min_samples_split=15, model__min_samples_leaf=10, model__max_features=sqrt, model__max_depth=25, model__criterion=gini, score=0.992, total=   0.1s\n",
            "[CV] model__min_samples_split=15, model__min_samples_leaf=10, model__max_features=sqrt, model__max_depth=25, model__criterion=gini \n",
            "[CV]  model__min_samples_split=15, model__min_samples_leaf=10, model__max_features=sqrt, model__max_depth=25, model__criterion=gini, score=0.992, total=   0.1s\n",
            "[CV] model__min_samples_split=15, model__min_samples_leaf=10, model__max_features=sqrt, model__max_depth=25, model__criterion=gini \n",
            "[CV]  model__min_samples_split=15, model__min_samples_leaf=10, model__max_features=sqrt, model__max_depth=25, model__criterion=gini, score=0.980, total=   0.1s\n",
            "[CV] model__min_samples_split=15, model__min_samples_leaf=5, model__max_features=log2, model__max_depth=8, model__criterion=entropy \n",
            "[CV]  model__min_samples_split=15, model__min_samples_leaf=5, model__max_features=log2, model__max_depth=8, model__criterion=entropy, score=0.973, total=   0.1s\n",
            "[CV] model__min_samples_split=15, model__min_samples_leaf=5, model__max_features=log2, model__max_depth=8, model__criterion=entropy \n",
            "[CV]  model__min_samples_split=15, model__min_samples_leaf=5, model__max_features=log2, model__max_depth=8, model__criterion=entropy, score=0.987, total=   0.2s\n",
            "[CV] model__min_samples_split=15, model__min_samples_leaf=5, model__max_features=log2, model__max_depth=8, model__criterion=entropy \n",
            "[CV]  model__min_samples_split=15, model__min_samples_leaf=5, model__max_features=log2, model__max_depth=8, model__criterion=entropy, score=0.984, total=   0.1s\n",
            "[CV] model__min_samples_split=2, model__min_samples_leaf=2, model__max_features=sqrt, model__max_depth=8, model__criterion=gini \n",
            "[CV]  model__min_samples_split=2, model__min_samples_leaf=2, model__max_features=sqrt, model__max_depth=8, model__criterion=gini, score=0.989, total=   0.1s\n",
            "[CV] model__min_samples_split=2, model__min_samples_leaf=2, model__max_features=sqrt, model__max_depth=8, model__criterion=gini \n",
            "[CV]  model__min_samples_split=2, model__min_samples_leaf=2, model__max_features=sqrt, model__max_depth=8, model__criterion=gini, score=0.974, total=   0.1s\n",
            "[CV] model__min_samples_split=2, model__min_samples_leaf=2, model__max_features=sqrt, model__max_depth=8, model__criterion=gini \n",
            "[CV]  model__min_samples_split=2, model__min_samples_leaf=2, model__max_features=sqrt, model__max_depth=8, model__criterion=gini, score=0.992, total=   0.1s\n",
            "[CV] model__min_samples_split=15, model__min_samples_leaf=1, model__max_features=sqrt, model__max_depth=8, model__criterion=gini \n",
            "[CV]  model__min_samples_split=15, model__min_samples_leaf=1, model__max_features=sqrt, model__max_depth=8, model__criterion=gini, score=0.961, total=   0.1s\n",
            "[CV] model__min_samples_split=15, model__min_samples_leaf=1, model__max_features=sqrt, model__max_depth=8, model__criterion=gini \n",
            "[CV]  model__min_samples_split=15, model__min_samples_leaf=1, model__max_features=sqrt, model__max_depth=8, model__criterion=gini, score=0.997, total=   0.1s\n",
            "[CV] model__min_samples_split=15, model__min_samples_leaf=1, model__max_features=sqrt, model__max_depth=8, model__criterion=gini \n",
            "[CV]  model__min_samples_split=15, model__min_samples_leaf=1, model__max_features=sqrt, model__max_depth=8, model__criterion=gini, score=0.992, total=   0.1s\n",
            "[CV] model__min_samples_split=2, model__min_samples_leaf=2, model__max_features=log2, model__max_depth=15, model__criterion=gini \n",
            "[CV]  model__min_samples_split=2, model__min_samples_leaf=2, model__max_features=log2, model__max_depth=15, model__criterion=gini, score=0.986, total=   0.1s\n",
            "[CV] model__min_samples_split=2, model__min_samples_leaf=2, model__max_features=log2, model__max_depth=15, model__criterion=gini \n",
            "[CV]  model__min_samples_split=2, model__min_samples_leaf=2, model__max_features=log2, model__max_depth=15, model__criterion=gini, score=1.000, total=   0.1s\n",
            "[CV] model__min_samples_split=2, model__min_samples_leaf=2, model__max_features=log2, model__max_depth=15, model__criterion=gini \n",
            "[CV]  model__min_samples_split=2, model__min_samples_leaf=2, model__max_features=log2, model__max_depth=15, model__criterion=gini, score=0.997, total=   0.1s\n",
            "[CV] model__min_samples_split=10, model__min_samples_leaf=5, model__max_features=None, model__max_depth=30, model__criterion=gini \n",
            "[CV]  model__min_samples_split=10, model__min_samples_leaf=5, model__max_features=None, model__max_depth=30, model__criterion=gini, score=0.999, total=   0.1s\n",
            "[CV] model__min_samples_split=10, model__min_samples_leaf=5, model__max_features=None, model__max_depth=30, model__criterion=gini \n",
            "[CV]  model__min_samples_split=10, model__min_samples_leaf=5, model__max_features=None, model__max_depth=30, model__criterion=gini, score=0.997, total=   0.1s\n",
            "[CV] model__min_samples_split=10, model__min_samples_leaf=5, model__max_features=None, model__max_depth=30, model__criterion=gini \n",
            "[CV]  model__min_samples_split=10, model__min_samples_leaf=5, model__max_features=None, model__max_depth=30, model__criterion=gini, score=0.998, total=   0.1s\n",
            "[CV] model__min_samples_split=2, model__min_samples_leaf=5, model__max_features=log2, model__max_depth=5, model__criterion=entropy \n",
            "[CV]  model__min_samples_split=2, model__min_samples_leaf=5, model__max_features=log2, model__max_depth=5, model__criterion=entropy, score=0.962, total=   0.2s\n",
            "[CV] model__min_samples_split=2, model__min_samples_leaf=5, model__max_features=log2, model__max_depth=5, model__criterion=entropy \n",
            "[CV]  model__min_samples_split=2, model__min_samples_leaf=5, model__max_features=log2, model__max_depth=5, model__criterion=entropy, score=0.971, total=   0.1s\n",
            "[CV] model__min_samples_split=2, model__min_samples_leaf=5, model__max_features=log2, model__max_depth=5, model__criterion=entropy \n",
            "[CV]  model__min_samples_split=2, model__min_samples_leaf=5, model__max_features=log2, model__max_depth=5, model__criterion=entropy, score=0.839, total=   0.1s\n"
          ],
          "name": "stdout"
        },
        {
          "output_type": "stream",
          "text": [
            "[Parallel(n_jobs=1)]: Done  30 out of  30 | elapsed:    4.4s finished\n"
          ],
          "name": "stderr"
        },
        {
          "output_type": "stream",
          "text": [
            "Fitting 3 folds for each of 10 candidates, totalling 30 fits\n",
            "[CV] model__n_estimators=300, model__min_samples_split=2, model__min_samples_leaf=2, model__max_features=None, model__max_depth=25 \n"
          ],
          "name": "stdout"
        },
        {
          "output_type": "stream",
          "text": [
            "[Parallel(n_jobs=1)]: Using backend SequentialBackend with 1 concurrent workers.\n"
          ],
          "name": "stderr"
        },
        {
          "output_type": "stream",
          "text": [
            "[CV]  model__n_estimators=300, model__min_samples_split=2, model__min_samples_leaf=2, model__max_features=None, model__max_depth=25, score=1.000, total=   1.4s\n",
            "[CV] model__n_estimators=300, model__min_samples_split=2, model__min_samples_leaf=2, model__max_features=None, model__max_depth=25 \n"
          ],
          "name": "stdout"
        },
        {
          "output_type": "stream",
          "text": [
            "[Parallel(n_jobs=1)]: Done   1 out of   1 | elapsed:    1.4s remaining:    0.0s\n"
          ],
          "name": "stderr"
        },
        {
          "output_type": "stream",
          "text": [
            "[CV]  model__n_estimators=300, model__min_samples_split=2, model__min_samples_leaf=2, model__max_features=None, model__max_depth=25, score=1.000, total=   1.4s\n",
            "[CV] model__n_estimators=300, model__min_samples_split=2, model__min_samples_leaf=2, model__max_features=None, model__max_depth=25 \n"
          ],
          "name": "stdout"
        },
        {
          "output_type": "stream",
          "text": [
            "[Parallel(n_jobs=1)]: Done   2 out of   2 | elapsed:    2.8s remaining:    0.0s\n"
          ],
          "name": "stderr"
        },
        {
          "output_type": "stream",
          "text": [
            "[CV]  model__n_estimators=300, model__min_samples_split=2, model__min_samples_leaf=2, model__max_features=None, model__max_depth=25, score=1.000, total=   1.4s\n",
            "[CV] model__n_estimators=1200, model__min_samples_split=5, model__min_samples_leaf=5, model__max_features=None, model__max_depth=30 \n"
          ],
          "name": "stdout"
        },
        {
          "output_type": "stream",
          "text": [
            "[Parallel(n_jobs=1)]: Done   3 out of   3 | elapsed:    4.1s remaining:    0.0s\n"
          ],
          "name": "stderr"
        },
        {
          "output_type": "stream",
          "text": [
            "[CV]  model__n_estimators=1200, model__min_samples_split=5, model__min_samples_leaf=5, model__max_features=None, model__max_depth=30, score=0.997, total=   5.2s\n",
            "[CV] model__n_estimators=1200, model__min_samples_split=5, model__min_samples_leaf=5, model__max_features=None, model__max_depth=30 \n"
          ],
          "name": "stdout"
        },
        {
          "output_type": "stream",
          "text": [
            "[Parallel(n_jobs=1)]: Done   4 out of   4 | elapsed:    9.4s remaining:    0.0s\n"
          ],
          "name": "stderr"
        },
        {
          "output_type": "stream",
          "text": [
            "[CV]  model__n_estimators=1200, model__min_samples_split=5, model__min_samples_leaf=5, model__max_features=None, model__max_depth=30, score=0.997, total=   5.0s\n",
            "[CV] model__n_estimators=1200, model__min_samples_split=5, model__min_samples_leaf=5, model__max_features=None, model__max_depth=30 \n"
          ],
          "name": "stdout"
        },
        {
          "output_type": "stream",
          "text": [
            "[Parallel(n_jobs=1)]: Done   5 out of   5 | elapsed:   14.4s remaining:    0.0s\n"
          ],
          "name": "stderr"
        },
        {
          "output_type": "stream",
          "text": [
            "[CV]  model__n_estimators=1200, model__min_samples_split=5, model__min_samples_leaf=5, model__max_features=None, model__max_depth=30, score=0.998, total=   4.8s\n",
            "[CV] model__n_estimators=120, model__min_samples_split=10, model__min_samples_leaf=5, model__max_features=None, model__max_depth=15 \n"
          ],
          "name": "stdout"
        },
        {
          "output_type": "stream",
          "text": [
            "[Parallel(n_jobs=1)]: Done   6 out of   6 | elapsed:   19.1s remaining:    0.0s\n"
          ],
          "name": "stderr"
        },
        {
          "output_type": "stream",
          "text": [
            "[CV]  model__n_estimators=120, model__min_samples_split=10, model__min_samples_leaf=5, model__max_features=None, model__max_depth=15, score=0.998, total=   0.7s\n",
            "[CV] model__n_estimators=120, model__min_samples_split=10, model__min_samples_leaf=5, model__max_features=None, model__max_depth=15 \n"
          ],
          "name": "stdout"
        },
        {
          "output_type": "stream",
          "text": [
            "[Parallel(n_jobs=1)]: Done   7 out of   7 | elapsed:   19.8s remaining:    0.0s\n"
          ],
          "name": "stderr"
        },
        {
          "output_type": "stream",
          "text": [
            "[CV]  model__n_estimators=120, model__min_samples_split=10, model__min_samples_leaf=5, model__max_features=None, model__max_depth=15, score=0.997, total=   0.6s\n",
            "[CV] model__n_estimators=120, model__min_samples_split=10, model__min_samples_leaf=5, model__max_features=None, model__max_depth=15 \n"
          ],
          "name": "stdout"
        },
        {
          "output_type": "stream",
          "text": [
            "[Parallel(n_jobs=1)]: Done   8 out of   8 | elapsed:   20.4s remaining:    0.0s\n"
          ],
          "name": "stderr"
        },
        {
          "output_type": "stream",
          "text": [
            "[CV]  model__n_estimators=120, model__min_samples_split=10, model__min_samples_leaf=5, model__max_features=None, model__max_depth=15, score=0.998, total=   0.6s\n",
            "[CV] model__n_estimators=1200, model__min_samples_split=15, model__min_samples_leaf=10, model__max_features=sqrt, model__max_depth=30 \n"
          ],
          "name": "stdout"
        },
        {
          "output_type": "stream",
          "text": [
            "[Parallel(n_jobs=1)]: Done   9 out of   9 | elapsed:   21.0s remaining:    0.0s\n"
          ],
          "name": "stderr"
        },
        {
          "output_type": "stream",
          "text": [
            "[CV]  model__n_estimators=1200, model__min_samples_split=15, model__min_samples_leaf=10, model__max_features=sqrt, model__max_depth=30, score=0.998, total=   2.8s\n",
            "[CV] model__n_estimators=1200, model__min_samples_split=15, model__min_samples_leaf=10, model__max_features=sqrt, model__max_depth=30 \n",
            "[CV]  model__n_estimators=1200, model__min_samples_split=15, model__min_samples_leaf=10, model__max_features=sqrt, model__max_depth=30, score=0.999, total=   2.8s\n",
            "[CV] model__n_estimators=1200, model__min_samples_split=15, model__min_samples_leaf=10, model__max_features=sqrt, model__max_depth=30 \n",
            "[CV]  model__n_estimators=1200, model__min_samples_split=15, model__min_samples_leaf=10, model__max_features=sqrt, model__max_depth=30, score=0.997, total=   2.8s\n",
            "[CV] model__n_estimators=120, model__min_samples_split=5, model__min_samples_leaf=2, model__max_features=None, model__max_depth=25 \n",
            "[CV]  model__n_estimators=120, model__min_samples_split=5, model__min_samples_leaf=2, model__max_features=None, model__max_depth=25, score=1.000, total=   0.6s\n",
            "[CV] model__n_estimators=120, model__min_samples_split=5, model__min_samples_leaf=2, model__max_features=None, model__max_depth=25 \n",
            "[CV]  model__n_estimators=120, model__min_samples_split=5, model__min_samples_leaf=2, model__max_features=None, model__max_depth=25, score=1.000, total=   0.6s\n",
            "[CV] model__n_estimators=120, model__min_samples_split=5, model__min_samples_leaf=2, model__max_features=None, model__max_depth=25 \n",
            "[CV]  model__n_estimators=120, model__min_samples_split=5, model__min_samples_leaf=2, model__max_features=None, model__max_depth=25, score=0.999, total=   0.6s\n",
            "[CV] model__n_estimators=120, model__min_samples_split=100, model__min_samples_leaf=10, model__max_features=log2, model__max_depth=25 \n",
            "[CV]  model__n_estimators=120, model__min_samples_split=100, model__min_samples_leaf=10, model__max_features=log2, model__max_depth=25, score=0.983, total=   0.4s\n",
            "[CV] model__n_estimators=120, model__min_samples_split=100, model__min_samples_leaf=10, model__max_features=log2, model__max_depth=25 \n",
            "[CV]  model__n_estimators=120, model__min_samples_split=100, model__min_samples_leaf=10, model__max_features=log2, model__max_depth=25, score=0.993, total=   0.4s\n",
            "[CV] model__n_estimators=120, model__min_samples_split=100, model__min_samples_leaf=10, model__max_features=log2, model__max_depth=25 \n",
            "[CV]  model__n_estimators=120, model__min_samples_split=100, model__min_samples_leaf=10, model__max_features=log2, model__max_depth=25, score=0.974, total=   0.4s\n",
            "[CV] model__n_estimators=1200, model__min_samples_split=100, model__min_samples_leaf=1, model__max_features=None, model__max_depth=None \n",
            "[CV]  model__n_estimators=1200, model__min_samples_split=100, model__min_samples_leaf=1, model__max_features=None, model__max_depth=None, score=0.981, total=   5.1s\n",
            "[CV] model__n_estimators=1200, model__min_samples_split=100, model__min_samples_leaf=1, model__max_features=None, model__max_depth=None \n",
            "[CV]  model__n_estimators=1200, model__min_samples_split=100, model__min_samples_leaf=1, model__max_features=None, model__max_depth=None, score=0.988, total=   5.1s\n",
            "[CV] model__n_estimators=1200, model__min_samples_split=100, model__min_samples_leaf=1, model__max_features=None, model__max_depth=None \n",
            "[CV]  model__n_estimators=1200, model__min_samples_split=100, model__min_samples_leaf=1, model__max_features=None, model__max_depth=None, score=0.980, total=   4.9s\n",
            "[CV] model__n_estimators=1200, model__min_samples_split=15, model__min_samples_leaf=2, model__max_features=log2, model__max_depth=25 \n",
            "[CV]  model__n_estimators=1200, model__min_samples_split=15, model__min_samples_leaf=2, model__max_features=log2, model__max_depth=25, score=1.000, total=   2.7s\n",
            "[CV] model__n_estimators=1200, model__min_samples_split=15, model__min_samples_leaf=2, model__max_features=log2, model__max_depth=25 \n",
            "[CV]  model__n_estimators=1200, model__min_samples_split=15, model__min_samples_leaf=2, model__max_features=log2, model__max_depth=25, score=1.000, total=   2.7s\n",
            "[CV] model__n_estimators=1200, model__min_samples_split=15, model__min_samples_leaf=2, model__max_features=log2, model__max_depth=25 \n",
            "[CV]  model__n_estimators=1200, model__min_samples_split=15, model__min_samples_leaf=2, model__max_features=log2, model__max_depth=25, score=0.998, total=   2.7s\n",
            "[CV] model__n_estimators=800, model__min_samples_split=10, model__min_samples_leaf=2, model__max_features=log2, model__max_depth=None \n",
            "[CV]  model__n_estimators=800, model__min_samples_split=10, model__min_samples_leaf=2, model__max_features=log2, model__max_depth=None, score=1.000, total=   1.8s\n",
            "[CV] model__n_estimators=800, model__min_samples_split=10, model__min_samples_leaf=2, model__max_features=log2, model__max_depth=None \n",
            "[CV]  model__n_estimators=800, model__min_samples_split=10, model__min_samples_leaf=2, model__max_features=log2, model__max_depth=None, score=1.000, total=   1.9s\n",
            "[CV] model__n_estimators=800, model__min_samples_split=10, model__min_samples_leaf=2, model__max_features=log2, model__max_depth=None \n",
            "[CV]  model__n_estimators=800, model__min_samples_split=10, model__min_samples_leaf=2, model__max_features=log2, model__max_depth=None, score=0.998, total=   1.8s\n",
            "[CV] model__n_estimators=300, model__min_samples_split=100, model__min_samples_leaf=1, model__max_features=log2, model__max_depth=5 \n",
            "[CV]  model__n_estimators=300, model__min_samples_split=100, model__min_samples_leaf=1, model__max_features=log2, model__max_depth=5, score=0.977, total=   0.7s\n",
            "[CV] model__n_estimators=300, model__min_samples_split=100, model__min_samples_leaf=1, model__max_features=log2, model__max_depth=5 \n",
            "[CV]  model__n_estimators=300, model__min_samples_split=100, model__min_samples_leaf=1, model__max_features=log2, model__max_depth=5, score=0.986, total=   0.7s\n",
            "[CV] model__n_estimators=300, model__min_samples_split=100, model__min_samples_leaf=1, model__max_features=log2, model__max_depth=5 \n",
            "[CV]  model__n_estimators=300, model__min_samples_split=100, model__min_samples_leaf=1, model__max_features=log2, model__max_depth=5, score=0.979, total=   0.7s\n"
          ],
          "name": "stdout"
        },
        {
          "output_type": "stream",
          "text": [
            "[Parallel(n_jobs=1)]: Done  30 out of  30 | elapsed:  1.1min finished\n"
          ],
          "name": "stderr"
        },
        {
          "output_type": "stream",
          "text": [
            "Hyper parameter tunning is finished.\n"
          ],
          "name": "stdout"
        }
      ]
    },
    {
      "cell_type": "markdown",
      "metadata": {
        "id": "7qBWRc0-0Fww",
        "colab_type": "text"
      },
      "source": [
        "# Model selection."
      ]
    },
    {
      "cell_type": "code",
      "metadata": {
        "id": "Qb5WNBI40GR_",
        "colab_type": "code",
        "colab": {
          "base_uri": "https://localhost:8080/",
          "height": 34
        },
        "outputId": "c9587dc1-d621-4521-fdfb-20cb7b10ef21"
      },
      "source": [
        "# initiating an empty list to stre the validation scores of the optimized models\n",
        "optimized_model_validation_scores = []\n",
        "\n",
        "for optimized_model in hyper_parameter_optimized_models :\n",
        "  optimized_model_pipeline = Pipeline([('resampler', over_sampler), ('scaler', scaler), ('optimized_model', optimized_model)])\n",
        "  model_validation_scores = cross_val_score(optimized_model_pipeline, x_validation, y_validation.values.ravel(), cv=3)\n",
        "  optimized_model_validation_scores.append(np.mean(model_validation_scores))\n",
        "\n",
        "# making a dictionary to store the results of the hyper-parameter optimization and the model selection process.\n",
        "results_dict = {'optimized_model':hyper_parameter_optimized_models,\n",
        "                'validation_score':optimized_model_validation_scores\n",
        "                }\n",
        "\n",
        "optimized_model_results = pd.DataFrame(results_dict)\n",
        "# saving the results of the hyper-parameter optimization and model_selection in a csv file\n",
        "optimized_model_results.to_csv('/content/drive/My Drive/data_for_HPO&MS/Mushroom_classif/model_optimizaion_report.csv')\n",
        "print('Model selection is finished')\n"
      ],
      "execution_count": 6,
      "outputs": [
        {
          "output_type": "stream",
          "text": [
            "Model selection is finished\n"
          ],
          "name": "stdout"
        }
      ]
    },
    {
      "cell_type": "markdown",
      "metadata": {
        "id": "w_uStoB60HJe",
        "colab_type": "text"
      },
      "source": [
        "# Best performing hyper-parameter optimised model."
      ]
    },
    {
      "cell_type": "code",
      "metadata": {
        "id": "olBhpvwX0Haj",
        "colab_type": "code",
        "colab": {
          "base_uri": "https://localhost:8080/",
          "height": 357
        },
        "outputId": "b0b1c6a7-8532-4eb2-d494-673b56a8e36c"
      },
      "source": [
        "print('Initiating the process of our final phase to judge the average out-of-sample performance of our best found optimized model.')\n",
        "# selecting the best model by its index for the final predictions\n",
        "best_model_idx = optimized_model_results['validation_score'].idxmax(axis=0)\n",
        "best_model = optimized_model_results.iloc[best_model_idx,0]\n",
        "\n",
        "print('The best model to our finding is ', best_model)"
      ],
      "execution_count": 7,
      "outputs": [
        {
          "output_type": "stream",
          "text": [
            "Initiating the process of our final phase to judge the average out-of-sample performance of our best found optimized model.\n",
            "The best model to our finding is  Pipeline(memory=None,\n",
            "         steps=[('resampler',\n",
            "                 SMOTE(k_neighbors=5, kind='deprecated',\n",
            "                       m_neighbors='deprecated', n_jobs=1,\n",
            "                       out_step='deprecated', random_state=42, ratio=None,\n",
            "                       sampling_strategy='auto', svm_estimator='deprecated')),\n",
            "                ('scaler',\n",
            "                 StandardScaler(copy=True, with_mean=True, with_std=True)),\n",
            "                ('model',\n",
            "                 DecisionTreeClassifier(ccp_alpha=0.0, class_weight=None,\n",
            "                                        criterion='gini', max_depth=None,\n",
            "                                        max_features=None, max_leaf_nodes=None,\n",
            "                                        min_impurity_decrease=0.0,\n",
            "                                        min_impurity_split=None,\n",
            "                                        min_samples_leaf=1, min_samples_split=2,\n",
            "                                        min_weight_fraction_leaf=0.0,\n",
            "                                        presort='deprecated', random_state=None,\n",
            "                                        splitter='best'))],\n",
            "         verbose=False)\n"
          ],
          "name": "stdout"
        }
      ]
    },
    {
      "cell_type": "markdown",
      "metadata": {
        "id": "T6vMtqe_0H01",
        "colab_type": "text"
      },
      "source": [
        "# Final Prediction."
      ]
    },
    {
      "cell_type": "code",
      "metadata": {
        "id": "rcwIg8x60Huw",
        "colab_type": "code",
        "colab": {
          "base_uri": "https://localhost:8080/",
          "height": 88
        },
        "outputId": "543a0bf6-cff2-4a02-a0cb-c884c1728d42"
      },
      "source": [
        "# we are utilizing the whole training dataset for training the fianl model before making predictions on the test set.\n",
        "x_train_resampled, y_train_resampled = SMOTE(random_state=42).fit_resample(x_train, y_train)\n",
        "\n",
        "# scaling our features in the training dataset\n",
        "scaler = StandardScaler().fit(x_train_resampled)\n",
        "x_train_scaled = scaler.transform(x_train_resampled)\n",
        "x_test_scaled = scaler.transform(x_test)\n",
        "\n",
        "# re-fitting out best found optimized model to the whole training set\n",
        "best_model.fit(x_train_scaled, y_train_resampled)\n",
        "out_of_sample_predictions = best_model.predict(x_test_scaled)\n",
        "\n",
        "final_score = accuracy_score(y_test, out_of_sample_predictions)\n",
        "\n",
        "print('The final average out-of-sample performance score of our best optimized model is', final_score)"
      ],
      "execution_count": 8,
      "outputs": [
        {
          "output_type": "stream",
          "text": [
            "/usr/local/lib/python3.6/dist-packages/sklearn/utils/validation.py:760: DataConversionWarning: A column-vector y was passed when a 1d array was expected. Please change the shape of y to (n_samples, ), for example using ravel().\n",
            "  y = column_or_1d(y, warn=True)\n"
          ],
          "name": "stderr"
        },
        {
          "output_type": "stream",
          "text": [
            "The final average out-of-sample performance score of our best optimized model is 1.0\n"
          ],
          "name": "stdout"
        }
      ]
    },
    {
      "cell_type": "markdown",
      "metadata": {
        "id": "5JFiQ8w50Hl9",
        "colab_type": "text"
      },
      "source": [
        "# Saving the model."
      ]
    },
    {
      "cell_type": "code",
      "metadata": {
        "id": "mlQh0ZAn1pOs",
        "colab_type": "code",
        "colab": {
          "base_uri": "https://localhost:8080/",
          "height": 34
        },
        "outputId": "744c9a5f-1656-495e-800b-6f38a00500c6"
      },
      "source": [
        "# saving our best found optimized model for this data, as a pickle file\n",
        "joblib.dump(best_model, '/content/drive/My Drive/data_for_HPO&MS/Mushroom_classif/best_model.pkl')"
      ],
      "execution_count": 9,
      "outputs": [
        {
          "output_type": "execute_result",
          "data": {
            "text/plain": [
              "['/content/drive/My Drive/data_for_HPO&MS/Mushroom_classif/best_model.pkl']"
            ]
          },
          "metadata": {
            "tags": []
          },
          "execution_count": 9
        }
      ]
    }
  ]
}